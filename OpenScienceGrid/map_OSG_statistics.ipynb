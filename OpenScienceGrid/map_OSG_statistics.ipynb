{
 "cells": [
  {
   "cell_type": "markdown",
   "metadata": {},
   "source": [
    "# Plot HRRR Statistics from OSG Calculation"
   ]
  },
  {
   "cell_type": "code",
   "execution_count": 65,
   "metadata": {
    "collapsed": true
   },
   "outputs": [],
   "source": [
    "%matplotlib inline\n",
    "import h5py\n",
    "import matplotlib.pyplot as plt\n",
    "import multiprocessing\n",
    "import numpy as np\n",
    "from collections import OrderedDict\n",
    "\n",
    "import sys\n",
    "import sys\n",
    "sys.path.append('/uufs/chpc.utah.edu/common/home/u0553130/pyBKB_v2')\n",
    "from BB_downloads.HRRR_S3 import *\n",
    "from BB_basemap.draw_maps import draw_CONUS_HRRR_map\n",
    "from BB_MesoWest.MesoWest_STNinfo import get_station_info\n",
    "from BB_data.grid_manager import pluck_point_new"
   ]
  },
  {
   "cell_type": "code",
   "execution_count": 66,
   "metadata": {
    "collapsed": true
   },
   "outputs": [],
   "source": [
    "from matplotlib.dates import DateFormatter\n",
    "formatter = DateFormatter('%b\\n%d')\n",
    "\n",
    "import matplotlib as mpl \n",
    "mpl.rcParams['figure.figsize'] = [10, 8]\n",
    "mpl.rcParams['figure.titlesize'] = 15\n",
    "mpl.rcParams['figure.titleweight'] = 'bold'\n",
    "mpl.rcParams['xtick.labelsize'] = 10\n",
    "mpl.rcParams['ytick.labelsize'] = 10\n",
    "mpl.rcParams['axes.labelsize'] = 10\n",
    "mpl.rcParams['axes.titlesize'] = 12\n",
    "mpl.rcParams['lines.linewidth'] = 1.8\n",
    "mpl.rcParams['grid.linewidth'] = .25\n",
    "mpl.rcParams['figure.subplot.wspace'] = 0.05\n",
    "mpl.rcParams['figure.subplot.hspace'] = 0.05\n",
    "mpl.rcParams['legend.fontsize'] = 8\n",
    "mpl.rcParams['legend.framealpha'] = .75\n",
    "mpl.rcParams['legend.loc'] = 'best'\n",
    "mpl.rcParams['savefig.bbox'] = 'tight'\n",
    "mpl.rcParams['savefig.dpi'] = 100"
   ]
  },
  {
   "cell_type": "code",
   "execution_count": 67,
   "metadata": {
    "collapsed": true
   },
   "outputs": [],
   "source": [
    "m = draw_CONUS_HRRR_map()"
   ]
  },
  {
   "cell_type": "markdown",
   "metadata": {},
   "source": [
    "### Get lat/lon grid from file for plotting"
   ]
  },
  {
   "cell_type": "code",
   "execution_count": 68,
   "metadata": {
    "collapsed": true
   },
   "outputs": [],
   "source": [
    "DIR = '/uufs/chpc.utah.edu/common/home/horel-group2/blaylock/HRRR_OSG/'\n",
    "latlon_file = h5py.File(DIR+'OSG_HRRR_latlon.h5', 'r')\n",
    "lat = latlon_file['latitude'].value\n",
    "lon = latlon_file['longitude'].value"
   ]
  },
  {
   "cell_type": "markdown",
   "metadata": {},
   "source": [
    "### Plot the OSG Statistics Map"
   ]
  },
  {
   "cell_type": "code",
   "execution_count": 69,
   "metadata": {
    "collapsed": false
   },
   "outputs": [
    {
     "ename": "SyntaxError",
     "evalue": "keyword argument repeated (<ipython-input-69-b525231d596e>, line 43)",
     "output_type": "error",
     "traceback": [
      "\u001b[0;36m  File \u001b[0;32m\"<ipython-input-69-b525231d596e>\"\u001b[0;36m, line \u001b[0;32m43\u001b[0m\n\u001b[0;31m    vmin=0, vmax=20,\u001b[0m\n\u001b[0;31mSyntaxError\u001b[0m\u001b[0;31m:\u001b[0m keyword argument repeated\n"
     ]
    }
   ],
   "source": [
    "def plot_OSG_map(args):\n",
    "    month, day, hour, fxx, statistic, var = args\n",
    "\n",
    "    variable = var.replace(\":\", '_').replace(' ', '_')\n",
    "\n",
    "    # open a file\n",
    "    FILE = 'OSG_HRRR_%s_m%02d_d%02d_h%02d_f%02d.h5' % (variable, month, day, hour, fxx)\n",
    "    \n",
    "    if os.path.exists(DIR+FILE):\n",
    "        h = h5py.File(DIR+FILE, 'r')\n",
    "    else:\n",
    "        print \"exited\", DIR+FILE\n",
    "        return None\n",
    "\n",
    "    cores = h['cores'].value\n",
    "    count = h['count'].value\n",
    "    \n",
    "    sDATE = h['Beginning Date'].value\n",
    "    eDATE = h['Ending Date'].value\n",
    "    timer = h['timer'].value\n",
    "      \n",
    "    # A list of the available percentiles in the 'percentile value' key\n",
    "    percentiles = h['percentile'].value\n",
    "\n",
    "    STAT = h[statistic].value\n",
    "    m.drawstates()\n",
    "    m.drawcoastlines()\n",
    "    m.drawcountries()\n",
    "    if var == 'TMP:2 m':\n",
    "        m.pcolormesh(lon, lat, STAT-273.15,\n",
    "                     vmin=-8, vmax=38,\n",
    "                     cmap='Spectral_r', latlon=True)\n",
    "        cb = plt.colorbar(orientation='horizontal', pad=0.01, shrink=.95, extend=\"both\")\n",
    "        cb.set_label('2 m Temperature (C)')\n",
    "    if var == 'DPT:2 m':\n",
    "        m.pcolormesh(lon, lat, STAT-273.15,\n",
    "                     vmin=-10, vmax=25,\n",
    "                     cmap='BrBG', latlon=True)\n",
    "        cb = plt.colorbar(orientation='horizontal', pad=0.01, shrink=.95, extend=\"both\")\n",
    "        cb.set_label('2 m Dew Point (C)')\n",
    "    elif var == 'WIND:10 m':\n",
    "        m.pcolormesh(lon, lat, STAT, vmin=0,\n",
    "                     vmin=0, vmax=20,\n",
    "                     cmap='plasma_r', latlon=True)\n",
    "        cb = plt.colorbar(orientation='horizontal', pad=0.01, shrink=.95, extend=\"max\")\n",
    "        cb.set_label(r'10 m Wind Speed (ms$\\mathregular{^{-1}}$)')\n",
    "    elif var == 'REFC:entire':\n",
    "        # Mask out empty reflectivity values\n",
    "        dBZ = STAT\n",
    "        dBZ = np.ma.array(dBZ)\n",
    "        dBZ[dBZ == -10] = np.ma.masked\n",
    "        m.pcolormesh(lon, lat, dBZ,\n",
    "                     vmax=0, vmin=80,\n",
    "                     cmap='gist_ncar', latlon=True)\n",
    "        cb = plt.colorbar(orientation='horizontal', pad=0.01, shrink=.95,)\n",
    "        cb.set_label(r'Simulated Composite Reflectivity (dBZ)')\n",
    "    \n",
    "    months = ['JAN', 'FEB', 'MAR', 'APR', 'MAY', 'JUN', 'JUL', 'AUG', 'SEP', 'OCT', 'NOV', 'DEC',]\n",
    "    plt.title('HRRR Composite: %s \\n %s-%02d Hour:%02d, fxx:%02d +/- 15 Days\\nFirst: %s, Last:%s\\nCount:%02d, Cores:%02d\\nOSG Timer: %s' % (statistic, months[month-1], day, hour, fxx, sDATE, eDATE, count, cores, timer))\n",
    "\n",
    "    SAVEDIR = '/uufs/chpc.utah.edu/common/home/u0553130/public_html/PhD/HRRR/OSG/daily30/%s_%s/' % (variable, statistic)\n",
    "    if not os.path.exists(SAVEDIR):\n",
    "        os.makedirs(SAVEDIR)\n",
    "    plt.savefig(SAVEDIR+'OSG_%s_%s_m%02d_d%02d_h%02d_f%02d.png' % (statistic, variable, month, day, hour, fxx), bbox_inches='tight', dpi=100)\n",
    "    plt.close()\n",
    "    h.close()"
   ]
  },
  {
   "cell_type": "markdown",
   "metadata": {},
   "source": [
    "-------"
   ]
  },
  {
   "cell_type": "markdown",
   "metadata": {},
   "source": [
    "### Input Arguments\n",
    "statistic can be from the list:  \n",
    "`mean, p00, p01, p02, p03, p04, p05, p10, p15, p25, p33, p50, p66, p75, p90, p95, p96, p97, p98, p99, p100`"
   ]
  },
  {
   "cell_type": "code",
   "execution_count": 70,
   "metadata": {
    "collapsed": true
   },
   "outputs": [],
   "source": [
    "fxx = 0\n",
    "statistic = 'p95'\n",
    "var = 'TMP:2 m'"
   ]
  },
  {
   "cell_type": "markdown",
   "metadata": {},
   "source": [
    "##### Additional Setup"
   ]
  },
  {
   "cell_type": "code",
   "execution_count": 71,
   "metadata": {
    "collapsed": false
   },
   "outputs": [],
   "source": [
    "variable = var.replace(':', '_').replace(' ', '_')\n",
    "DIR = '/uufs/chpc.utah.edu/common/home/horel-group2/blaylock/HRRR_OSG/hourly30/%s/' % (variable)\n",
    "\n",
    "months = range(1,13)\n",
    "days = [31, 29, 31, 30, 31, 30, 31, 31, 30, 31, 30, 31]\n",
    "hours = range(24)\n",
    "hours = [18]\n",
    "\n",
    "# Dates (with leap year)\n",
    "HOURS = 366*24\n",
    "DATES = np.array([datetime(2016, 1, 1) + timedelta(hours = h) for h in range(HOURS)])\n",
    "DATES = DATES[::24/len(hours)] # in case we don't request all 24 hours"
   ]
  },
  {
   "cell_type": "markdown",
   "metadata": {},
   "source": [
    "## Plot a map of the statistic"
   ]
  },
  {
   "cell_type": "code",
   "execution_count": null,
   "metadata": {
    "collapsed": false,
    "scrolled": true
   },
   "outputs": [
    {
     "name": "stdout",
     "output_type": "stream",
     "text": [
      "Variable: TMP:2 m\n",
      "Statistic: p95\n"
     ]
    }
   ],
   "source": [
    "print \"Variable:\", var\n",
    "print \"Statistic:\", statistic\n",
    "\n",
    "args = [[month, day, hour, fxx, statistic, var] \\\n",
    "        for month in months \\\n",
    "        for day in range(1,days[month-1]+1) \\\n",
    "        for hour in hours]\n",
    "\n",
    "# Multiprocessing :)\n",
    "num_proc = multiprocessing.cpu_count() # use all processors\n",
    "p = multiprocessing.Pool(num_proc)\n",
    "result = p.map(plot_OSG_map, args)\n",
    "p.close()"
   ]
  },
  {
   "cell_type": "code",
   "execution_count": null,
   "metadata": {
    "collapsed": true
   },
   "outputs": [],
   "source": []
  },
  {
   "cell_type": "code",
   "execution_count": null,
   "metadata": {
    "collapsed": true
   },
   "outputs": [],
   "source": []
  }
 ],
 "metadata": {
  "kernelspec": {
   "display_name": "Python 2",
   "language": "python",
   "name": "python2"
  },
  "language_info": {
   "codemirror_mode": {
    "name": "ipython",
    "version": 2
   },
   "file_extension": ".py",
   "mimetype": "text/x-python",
   "name": "python",
   "nbconvert_exporter": "python",
   "pygments_lexer": "ipython2",
   "version": "2.7.11"
  }
 },
 "nbformat": 4,
 "nbformat_minor": 0
}
