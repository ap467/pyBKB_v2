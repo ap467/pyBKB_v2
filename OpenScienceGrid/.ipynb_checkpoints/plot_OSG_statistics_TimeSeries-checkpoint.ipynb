{
 "cells": [
  {
   "cell_type": "markdown",
   "metadata": {
    "collapsed": true
   },
   "source": [
    "# Time Series HRRR Statistics from OSG"
   ]
  },
  {
   "cell_type": "code",
   "execution_count": 1,
   "metadata": {
    "collapsed": true
   },
   "outputs": [],
   "source": [
    "%matplotlib inline\n",
    "import h5py\n",
    "import matplotlib.pyplot as plt\n",
    "import multiprocessing\n",
    "import numpy as np\n",
    "from collections import OrderedDict\n",
    "\n",
    "import sys\n",
    "import sys\n",
    "sys.path.append('/uufs/chpc.utah.edu/common/home/u0553130/pyBKB_v2')\n",
    "from BB_downloads.HRRR_S3 import *\n",
    "from BB_wx_calcs.wind import wind_uv_to_spd\n",
    "from BB_basemap.draw_maps import draw_CONUS_HRRR_map\n",
    "from BB_MesoWest.MesoWest_STNinfo import get_MW_location_dict\n",
    "from BB_MesoWest.MesoWest_timeseries import get_mesowest_ts\n",
    "from BB_data.grid_manager import pluck_point_new"
   ]
  },
  {
   "cell_type": "code",
   "execution_count": 2,
   "metadata": {
    "collapsed": true
   },
   "outputs": [],
   "source": [
    "from matplotlib.dates import DateFormatter\n",
    "formatter = DateFormatter('%b\\n%d')\n",
    "\n",
    "import matplotlib as mpl \n",
    "mpl.rcParams['figure.figsize'] = [15, 6]\n",
    "mpl.rcParams['figure.titlesize'] = 15\n",
    "mpl.rcParams['figure.titleweight'] = 'bold'\n",
    "mpl.rcParams['xtick.labelsize'] = 10\n",
    "mpl.rcParams['ytick.labelsize'] = 10\n",
    "mpl.rcParams['axes.labelsize'] = 10\n",
    "mpl.rcParams['axes.titlesize'] = 12\n",
    "mpl.rcParams['lines.linewidth'] = 1.8\n",
    "mpl.rcParams['grid.linewidth'] = .25\n",
    "mpl.rcParams['figure.subplot.wspace'] = 0.05\n",
    "mpl.rcParams['figure.subplot.hspace'] = 0.05\n",
    "mpl.rcParams['legend.fontsize'] = 8\n",
    "mpl.rcParams['legend.framealpha'] = .75\n",
    "mpl.rcParams['legend.loc'] = 'best'\n",
    "mpl.rcParams['savefig.bbox'] = 'tight'\n",
    "mpl.rcParams['savefig.dpi'] = 100"
   ]
  },
  {
   "cell_type": "code",
   "execution_count": 3,
   "metadata": {
    "collapsed": true
   },
   "outputs": [],
   "source": [
    "m = draw_CONUS_HRRR_map()"
   ]
  },
  {
   "cell_type": "markdown",
   "metadata": {},
   "source": [
    "### Get lat/lon grid from file for plotting"
   ]
  },
  {
   "cell_type": "code",
   "execution_count": 4,
   "metadata": {
    "collapsed": true
   },
   "outputs": [],
   "source": [
    "DIR = '/uufs/chpc.utah.edu/common/home/horel-group2/blaylock/HRRR_OSG/'\n",
    "latlon_file = h5py.File(DIR+'OSG_HRRR_latlon.h5', 'r')\n",
    "lat = latlon_file['latitude'].value\n",
    "lon = latlon_file['longitude'].value"
   ]
  },
  {
   "cell_type": "markdown",
   "metadata": {},
   "source": [
    "### Get a point from the grid (multiprocessor)"
   ]
  },
  {
   "cell_type": "code",
   "execution_count": 5,
   "metadata": {
    "collapsed": true
   },
   "outputs": [],
   "source": [
    "def get_point_MP(inputs):\n",
    "    \"\"\"\n",
    "    Function for MultiProcessing:\n",
    "    Return the value from a point in the HDF5 file array\n",
    "    \"\"\"\n",
    "    FILE, STAT, ROW, COL = inputs\n",
    "    try:\n",
    "        with h5py.File(FILE, 'r') as f:\n",
    "            return f[STAT][ROW][COL]\n",
    "    except:\n",
    "        #print \"COULD NOT GET\", FILE\n",
    "        return np.nan"
   ]
  },
  {
   "cell_type": "markdown",
   "metadata": {},
   "source": [
    "-------"
   ]
  },
  {
   "cell_type": "markdown",
   "metadata": {},
   "source": [
    "# Time Series"
   ]
  },
  {
   "cell_type": "markdown",
   "metadata": {},
   "source": [
    "### Input Arguments\n",
    "statistic can be from the list:  \n",
    "`mean, p00, p01, p02, p03, p04, p05, p10, p15, p25, p33, p50, p66, p75, p90, p95, p96, p97, p98, p99, p100`"
   ]
  },
  {
   "cell_type": "code",
   "execution_count": 89,
   "metadata": {
    "collapsed": true
   },
   "outputs": [],
   "source": [
    "statistics = ['p00', 'p05', 'p25', 'p50', 'p75', 'p95', 'p100']\n",
    "statistics = ['p05', 'p50', 'p95']\n",
    "var = 'UVGRD:10 m'\n",
    "stn = 'WBB'\n",
    "fxx = 0\n",
    "\n",
    "hours = range(24)\n",
    "hours = [18]\n",
    "\n",
    "# Range to get MesoWest and HRRR values (eDATE is exclusive)\n",
    "sDATE = datetime(2017, 1, 1)\n",
    "eDATE = datetime(2017, 12, 31)\n",
    "\n",
    "plot_HRRR = False\n",
    "plot_MW = False\n",
    "plot_POLYWOG = False"
   ]
  },
  {
   "cell_type": "markdown",
   "metadata": {},
   "source": [
    "##### Additional Setup"
   ]
  },
  {
   "cell_type": "code",
   "execution_count": null,
   "metadata": {
    "collapsed": false
   },
   "outputs": [],
   "source": [
    "variable = var.replace(':', '_').replace(' ', '_')\n",
    "DIR = '/uufs/chpc.utah.edu/common/home/horel-group2/blaylock/HRRR_OSG/hourly30/%s/' % (variable)\n",
    "\n",
    "if var == 'TMP:2 m':\n",
    "    MWvar = 'air_temp'\n",
    "elif var == 'DPT:2 m':\n",
    "    MWvar = 'dew_point_temperature'\n",
    "elif var == 'UVGRD:10 m':\n",
    "    MWvar = 'wind_speed'\n",
    "else:\n",
    "    print \"NO MATCHING VAR AND MESOWEST VAR\"\n",
    "\n",
    "if (eDATE-sDATE).days < 365:\n",
    "    months = np.arange(sDATE.month,eDATE.month+1)\n",
    "else:\n",
    "    months = np.arange(1,13)\n",
    "\n",
    "days = [31, 29, 31, 30, 31, 30, 31, 31, 30, 31, 30, 31]\n",
    "\n",
    "# Dates (with leap year)\n",
    "DAYS = days[months[0]-1:months[-1]]\n",
    "HOURS = np.sum(DAYS)*24 # number of days times 24\n",
    "DATES = np.array([datetime(2016, sDATE.month, sDATE.day) + timedelta(hours = h) for h in range(HOURS)])\n",
    "DATES = DATES[::24/len(hours)] # in case we don't request all 24 hours\n",
    "\n",
    "\n",
    "# Plot Window (convert needs to be a leap year, so use 2016)\n",
    "if (eDATE-sDATE).days >=365:\n",
    "    sPLOT = datetime(2016, sDATE.month, sDATE.day, sDATE.hour)\n",
    "    ePLOT = datetime(2017, eDATE.month, eDATE.day, eDATE.hour)\n",
    "else:\n",
    "    sPLOT = datetime(2016, sDATE.month, sDATE.day, sDATE.hour)\n",
    "    ePLOT = datetime(2016, eDATE.month, eDATE.day, eDATE.hour)"
   ]
  },
  {
   "cell_type": "markdown",
   "metadata": {},
   "source": [
    "### Get a time series for a point"
   ]
  },
  {
   "cell_type": "code",
   "execution_count": null,
   "metadata": {
    "collapsed": false
   },
   "outputs": [
    {
     "name": "stdout",
     "output_type": "stream",
     "text": [
      " ! Could not get the file: https://pando-rgw01.chpc.utah.edu/HRRR/oper/sfc/20170228/hrrr.t13z.wrfsfcf00.grib2\n",
      " ! Could not get the file: https://pando-rgw01.chpc.utah.edu/HRRR/oper/sfc/20170207/hrrr.t17z.wrfsfcf00.grib2\n",
      " ! Is the variable right? WIND:10 m\n",
      " ! Could not get the file: https://pando-rgw01.chpc.utah.edu/HRRR/oper/sfc/20170321/hrrr.t09z.wrfsfcf00.grib2\n",
      " ! Is the variable right? WIND:10 m\n",
      " ! Could not get the file: https://pando-rgw01.chpc.utah.edu/HRRR/oper/sfc/20170220/hrrr.t05z.wrfsfcf00.grib2\n",
      " ! Does the file exist? https://api.mesowest.utah.edu/archive/HRRR/oper/sfc/20170228/hrrr.t13z.wrfsfcf00.grib2.idx\n",
      " ! Does the file exist? https://api.mesowest.utah.edu/archive/HRRR/oper/sfc/20170207/hrrr.t17z.wrfsfcf00.grib2.idx\n",
      " ! Is the variable right? WIND:10 m\n",
      " ! Is the variable right? WIND:10 m\n",
      " ! Could not get the file: https://pando-rgw01.chpc.utah.edu/HRRR/oper/sfc/20170126/hrrr.t05z.wrfsfcf00.grib2\n"
     ]
    },
    {
     "name": "stderr",
     "output_type": "stream",
     "text": [
      "/uufs/chpc.utah.edu/common/home/u0553130/pyBKB_v2/BB_downloads/HRRR_S3.py:396: RuntimeWarning: invalid value encountered in absolute\n",
      "  abslat = np.abs(H['lat']-lat)\n",
      "/uufs/chpc.utah.edu/common/home/u0553130/pyBKB_v2/BB_downloads/HRRR_S3.py:396: RuntimeWarning: invalid value encountered in absolute\n",
      "  abslat = np.abs(H['lat']-lat)\n"
     ]
    },
    {
     "name": "stdout",
     "output_type": "stream",
     "text": [
      " ! Could not get the file: https://pando-rgw01.chpc.utah.edu/HRRR/oper/sfc/20170313/hrrr.t01z.wrfsfcf00.grib2\n",
      " ! Does the file exist? https://api.mesowest.utah.edu/archive/HRRR/oper/sfc/20170220/hrrr.t05z.wrfsfcf00.grib2.idx\n"
     ]
    },
    {
     "name": "stderr",
     "output_type": "stream",
     "text": [
      "/uufs/chpc.utah.edu/common/home/u0553130/pyBKB_v2/BB_downloads/HRRR_S3.py:397: RuntimeWarning: invalid value encountered in absolute\n",
      "  abslon = np.abs(H['lon']-lon)\n"
     ]
    },
    {
     "name": "stdout",
     "output_type": "stream",
     "text": [
      " ! Is the variable right? WIND:10 m\n",
      " ! Does the file exist? https://api.mesowest.utah.edu/archive/HRRR/oper/sfc/20170321/hrrr.t09z.wrfsfcf00.grib2.idx\n"
     ]
    },
    {
     "name": "stderr",
     "output_type": "stream",
     "text": [
      "/uufs/chpc.utah.edu/common/home/u0553130/pyBKB_v2/BB_downloads/HRRR_S3.py:397: RuntimeWarning: invalid value encountered in absolute\n",
      "  abslon = np.abs(H['lon']-lon)\n"
     ]
    },
    {
     "name": "stdout",
     "output_type": "stream",
     "text": [
      " ! Does the file exist? https://api.mesowest.utah.edu/archive/HRRR/oper/sfc/20170126/hrrr.t05z.wrfsfcf00.grib2.idx\n",
      "\n",
      "------------------------------------! ! Is the variable right? WIND:10 m\n",
      "\n",
      "------------------------------------!"
     ]
    },
    {
     "name": "stderr",
     "output_type": "stream",
     "text": [
      "/uufs/chpc.utah.edu/common/home/u0553130/pyBKB_v2/BB_downloads/HRRR_S3.py:396: RuntimeWarning: invalid value encountered in absolute\n",
      "  abslat = np.abs(H['lat']-lat)\n"
     ]
    },
    {
     "name": "stdout",
     "output_type": "stream",
     "text": [
      "\n",
      " ! Does the file exist? https://api.mesowest.utah.edu/archive/HRRR/oper/sfc/20170313/hrrr.t01z.wrfsfcf00.grib2.idx\n"
     ]
    },
    {
     "name": "stderr",
     "output_type": "stream",
     "text": [
      "/uufs/chpc.utah.edu/common/home/u0553130/pyBKB_v2/BB_downloads/HRRR_S3.py:396: RuntimeWarning: invalid value encountered in absolute\n",
      "  abslat = np.abs(H['lat']-lat)\n",
      "/uufs/chpc.utah.edu/common/home/u0553130/pyBKB_v2/BB_downloads/HRRR_S3.py:397: RuntimeWarning: invalid value encountered in absolute\n",
      "  abslon = np.abs(H['lon']-lon)\n"
     ]
    },
    {
     "name": "stdout",
     "output_type": "stream",
     "text": [
      " !> ERROR <! ERROR in pluck_hrrr_point() nan 40.76623 -111.84755\n",
      "\n"
     ]
    },
    {
     "name": "stderr",
     "output_type": "stream",
     "text": [
      "/uufs/chpc.utah.edu/common/home/u0553130/pyBKB_v2/BB_downloads/HRRR_S3.py:396: RuntimeWarning: invalid value encountered in absolute\n",
      "  abslat = np.abs(H['lat']-lat)\n",
      "/uufs/chpc.utah.edu/common/home/u0553130/pyBKB_v2/BB_downloads/HRRR_S3.py:397: RuntimeWarning: invalid value encountered in absolute\n",
      "  abslon = np.abs(H['lon']-lon)\n"
     ]
    },
    {
     "name": "stdout",
     "output_type": "stream",
     "text": [
      "\n",
      "------------------------------------!\n"
     ]
    },
    {
     "name": "stderr",
     "output_type": "stream",
     "text": [
      "/uufs/chpc.utah.edu/common/home/u0553130/pyBKB_v2/BB_downloads/HRRR_S3.py:397: RuntimeWarning: invalid value encountered in absolute\n",
      "  abslon = np.abs(H['lon']-lon)\n"
     ]
    },
    {
     "name": "stdout",
     "output_type": "stream",
     "text": [
      "\n",
      "------------------------------------!------------------------------------!\n",
      " !> ERROR <! ERROR in pluck_hrrr_point() nan 40.76623 -111.84755\n"
     ]
    },
    {
     "name": "stderr",
     "output_type": "stream",
     "text": [
      "/uufs/chpc.utah.edu/common/home/u0553130/pyBKB_v2/BB_downloads/HRRR_S3.py:396: RuntimeWarning: invalid value encountered in absolute\n",
      "  abslat = np.abs(H['lat']-lat)\n"
     ]
    },
    {
     "name": "stdout",
     "output_type": "stream",
     "text": [
      "\n",
      " !> ERROR <! ERROR in pluck_hrrr_point() nan 40.76623 -111.84755\n",
      "\n",
      "------------------------------------! ! Could not get the file: https://pando-rgw01.chpc.utah.edu/HRRR/oper/sfc/20170329/hrrr.t17z.wrfsfcf00.grib2\n",
      "\n",
      "------------------------------------!\n",
      "------------------------------------!\n",
      "\n",
      " ! Is the variable right? WIND:10 m\n",
      "\n"
     ]
    },
    {
     "name": "stderr",
     "output_type": "stream",
     "text": [
      "/uufs/chpc.utah.edu/common/home/u0553130/pyBKB_v2/BB_downloads/HRRR_S3.py:397: RuntimeWarning: invalid value encountered in absolute\n",
      "  abslon = np.abs(H['lon']-lon)\n"
     ]
    },
    {
     "name": "stdout",
     "output_type": "stream",
     "text": [
      " !> ERROR <! ERROR in pluck_hrrr_point() nan 40.76623 -111.84755\n",
      "\n",
      " ! Does the file exist? https://api.mesowest.utah.edu/archive/HRRR/oper/sfc/20170329/hrrr.t17z.wrfsfcf00.grib2.idx\n",
      " !> ERROR <! ERROR in pluck_hrrr_point() nan 40.76623 -111.84755\n",
      "\n",
      "------------------------------------!\n"
     ]
    },
    {
     "name": "stderr",
     "output_type": "stream",
     "text": [
      "/uufs/chpc.utah.edu/common/home/u0553130/pyBKB_v2/BB_downloads/HRRR_S3.py:396: RuntimeWarning: invalid value encountered in absolute\n",
      "  abslat = np.abs(H['lat']-lat)\n"
     ]
    },
    {
     "name": "stdout",
     "output_type": "stream",
     "text": [
      "------------------------------------!\n",
      " ! Could not get the file: https://pando-rgw01.chpc.utah.edu/HRRR/oper/sfc/20170113/hrrr.t17z.wrfsfcf00.grib2\n"
     ]
    },
    {
     "name": "stderr",
     "output_type": "stream",
     "text": [
      "/uufs/chpc.utah.edu/common/home/u0553130/pyBKB_v2/BB_downloads/HRRR_S3.py:397: RuntimeWarning: invalid value encountered in absolute\n",
      "  abslon = np.abs(H['lon']-lon)\n"
     ]
    },
    {
     "name": "stdout",
     "output_type": "stream",
     "text": [
      " ! Is the variable right? WIND:10 m\n",
      "\n",
      " ! Does the file exist? https://api.mesowest.utah.edu/archive/HRRR/oper/sfc/20170113/hrrr.t17z.wrfsfcf00.grib2.idx\n",
      "\n",
      "------------------------------------! !> ERROR <! ERROR in pluck_hrrr_point() nan 40.76623 -111.84755\n",
      "------------------------------------!\n",
      "\n",
      "------------------------------------!\n",
      " ! Could not get the file: https://pando-rgw01.chpc.utah.edu/HRRR/oper/sfc/20170122/hrrr.t01z.wrfsfcf00.grib2\n",
      "\n",
      " ! Is the variable right? WIND:10 m\n",
      "\n"
     ]
    },
    {
     "name": "stderr",
     "output_type": "stream",
     "text": [
      "/uufs/chpc.utah.edu/common/home/u0553130/pyBKB_v2/BB_downloads/HRRR_S3.py:396: RuntimeWarning: invalid value encountered in absolute\n",
      "  abslat = np.abs(H['lat']-lat)\n"
     ]
    },
    {
     "name": "stdout",
     "output_type": "stream",
     "text": [
      " !> ERROR <! ERROR in pluck_hrrr_point() nan 40.76623 -111.84755\n",
      " ! Does the file exist? https://api.mesowest.utah.edu/archive/HRRR/oper/sfc/20170122/hrrr.t01z.wrfsfcf00.grib2.idx\n"
     ]
    },
    {
     "name": "stderr",
     "output_type": "stream",
     "text": [
      "/uufs/chpc.utah.edu/common/home/u0553130/pyBKB_v2/BB_downloads/HRRR_S3.py:396: RuntimeWarning: invalid value encountered in absolute\n",
      "  abslat = np.abs(H['lat']-lat)\n"
     ]
    },
    {
     "name": "stdout",
     "output_type": "stream",
     "text": [
      "\n"
     ]
    },
    {
     "name": "stderr",
     "output_type": "stream",
     "text": [
      "/uufs/chpc.utah.edu/common/home/u0553130/pyBKB_v2/BB_downloads/HRRR_S3.py:397: RuntimeWarning: invalid value encountered in absolute\n",
      "  abslon = np.abs(H['lon']-lon)\n"
     ]
    },
    {
     "name": "stdout",
     "output_type": "stream",
     "text": [
      "------------------------------------!\n",
      "\n",
      "------------------------------------!\n"
     ]
    },
    {
     "name": "stderr",
     "output_type": "stream",
     "text": [
      "/uufs/chpc.utah.edu/common/home/u0553130/pyBKB_v2/BB_downloads/HRRR_S3.py:397: RuntimeWarning: invalid value encountered in absolute\n",
      "  abslon = np.abs(H['lon']-lon)\n"
     ]
    },
    {
     "name": "stdout",
     "output_type": "stream",
     "text": [
      " !> ERROR <! ERROR in pluck_hrrr_point() nan 40.76623 -111.84755\n",
      "------------------------------------!\n",
      "\n",
      "------------------------------------! ! Could not get the file: https://pando-rgw01.chpc.utah.edu/HRRR/oper/sfc/20170325/hrrr.t13z.wrfsfcf00.grib2\n",
      "\n",
      " ! Is the variable right? WIND:10 m\n",
      " ! Does the file exist? https://api.mesowest.utah.edu/archive/HRRR/oper/sfc/20170325/hrrr.t13z.wrfsfcf00.grib2.idx\n"
     ]
    },
    {
     "name": "stderr",
     "output_type": "stream",
     "text": [
      "/uufs/chpc.utah.edu/common/home/u0553130/pyBKB_v2/BB_downloads/HRRR_S3.py:396: RuntimeWarning: invalid value encountered in absolute\n",
      "  abslat = np.abs(H['lat']-lat)\n"
     ]
    },
    {
     "name": "stdout",
     "output_type": "stream",
     "text": [
      "\n"
     ]
    },
    {
     "name": "stderr",
     "output_type": "stream",
     "text": [
      "/uufs/chpc.utah.edu/common/home/u0553130/pyBKB_v2/BB_downloads/HRRR_S3.py:397: RuntimeWarning: invalid value encountered in absolute\n",
      "  abslon = np.abs(H['lon']-lon)\n"
     ]
    },
    {
     "name": "stdout",
     "output_type": "stream",
     "text": [
      " ! Could not get the file: https://pando-rgw01.chpc.utah.edu/HRRR/oper/sfc/20170304/hrrr.t17z.wrfsfcf00.grib2\n",
      " ! Could not get the file: https://pando-rgw01.chpc.utah.edu/HRRR/oper/sfc/20170224/hrrr.t09z.wrfsfcf00.grib2\n",
      " !> ERROR <! ERROR in pluck_hrrr_point() nan 40.76623 -111.84755\n",
      " ! Is the variable right? WIND:10 m\n",
      " ! Is the variable right? WIND:10 m\n",
      "------------------------------------!\n",
      "\n",
      "------------------------------------! ! Does the file exist? https://api.mesowest.utah.edu/archive/HRRR/oper/sfc/20170224/hrrr.t09z.wrfsfcf00.grib2.idx\n",
      "\n",
      "\n",
      " ! Does the file exist? https://api.mesowest.utah.edu/archive/HRRR/oper/sfc/20170304/hrrr.t17z.wrfsfcf00.grib2.idx\n",
      " !> ERROR <! ERROR in pluck_hrrr_point() nan 40.76623 -111.84755\n",
      "------------------------------------!\n"
     ]
    },
    {
     "name": "stderr",
     "output_type": "stream",
     "text": [
      "/uufs/chpc.utah.edu/common/home/u0553130/pyBKB_v2/BB_downloads/HRRR_S3.py:396: RuntimeWarning: invalid value encountered in absolute\n",
      "  abslat = np.abs(H['lat']-lat)\n"
     ]
    },
    {
     "name": "stdout",
     "output_type": "stream",
     "text": [
      "\n"
     ]
    },
    {
     "name": "stderr",
     "output_type": "stream",
     "text": [
      "/uufs/chpc.utah.edu/common/home/u0553130/pyBKB_v2/BB_downloads/HRRR_S3.py:397: RuntimeWarning: invalid value encountered in absolute\n",
      "  abslon = np.abs(H['lon']-lon)\n"
     ]
    },
    {
     "name": "stdout",
     "output_type": "stream",
     "text": [
      "\n",
      "------------------------------------!\n",
      " !> ERROR <! ERROR in pluck_hrrr_point() nan 40.76623 -111.84755\n"
     ]
    },
    {
     "name": "stderr",
     "output_type": "stream",
     "text": [
      "/uufs/chpc.utah.edu/common/home/u0553130/pyBKB_v2/BB_downloads/HRRR_S3.py:396: RuntimeWarning: invalid value encountered in absolute\n",
      "  abslat = np.abs(H['lat']-lat)\n"
     ]
    },
    {
     "name": "stdout",
     "output_type": "stream",
     "text": [
      "------------------------------------!\n"
     ]
    },
    {
     "name": "stderr",
     "output_type": "stream",
     "text": [
      "/uufs/chpc.utah.edu/common/home/u0553130/pyBKB_v2/BB_downloads/HRRR_S3.py:397: RuntimeWarning: invalid value encountered in absolute\n",
      "  abslon = np.abs(H['lon']-lon)\n"
     ]
    },
    {
     "name": "stdout",
     "output_type": "stream",
     "text": [
      "\n",
      "\n",
      "------------------------------------!\n",
      " !> ERROR <! ERROR in pluck_hrrr_point() nan 40.76623 -111.84755\n",
      "------------------------------------!\n",
      "\n",
      " ! Could not get the file: https://pando-rgw01.chpc.utah.edu/HRRR/oper/sfc/20170105/hrrr.t09z.wrfsfcf00.grib2\n",
      " ! Is the variable right? WIND:10 m\n",
      " ! Does the file exist? https://api.mesowest.utah.edu/archive/HRRR/oper/sfc/20170105/hrrr.t09z.wrfsfcf00.grib2.idx\n"
     ]
    },
    {
     "name": "stderr",
     "output_type": "stream",
     "text": [
      "/uufs/chpc.utah.edu/common/home/u0553130/pyBKB_v2/BB_downloads/HRRR_S3.py:396: RuntimeWarning: invalid value encountered in absolute\n",
      "  abslat = np.abs(H['lat']-lat)\n",
      "/uufs/chpc.utah.edu/common/home/u0553130/pyBKB_v2/BB_downloads/HRRR_S3.py:397: RuntimeWarning: invalid value encountered in absolute\n",
      "  abslon = np.abs(H['lon']-lon)\n"
     ]
    },
    {
     "name": "stdout",
     "output_type": "stream",
     "text": [
      "\n",
      "------------------------------------!\n",
      " !> ERROR <! ERROR in pluck_hrrr_point() nan 40.76623 -111.84755\n",
      "------------------------------------!\n",
      "\n",
      " ! Could not get the file: https://pando-rgw01.chpc.utah.edu/HRRR/oper/sfc/20170216/hrrr.t01z.wrfsfcf00.grib2\n",
      " ! Is the variable right? WIND:10 m\n",
      " ! Does the file exist? https://api.mesowest.utah.edu/archive/HRRR/oper/sfc/20170216/hrrr.t01z.wrfsfcf00.grib2.idx\n"
     ]
    },
    {
     "name": "stderr",
     "output_type": "stream",
     "text": [
      "/uufs/chpc.utah.edu/common/home/u0553130/pyBKB_v2/BB_downloads/HRRR_S3.py:396: RuntimeWarning: invalid value encountered in absolute\n",
      "  abslat = np.abs(H['lat']-lat)\n",
      "/uufs/chpc.utah.edu/common/home/u0553130/pyBKB_v2/BB_downloads/HRRR_S3.py:397: RuntimeWarning: invalid value encountered in absolute\n",
      "  abslon = np.abs(H['lon']-lon)\n"
     ]
    },
    {
     "name": "stdout",
     "output_type": "stream",
     "text": [
      "\n",
      "------------------------------------!\n",
      " !> ERROR <! ERROR in pluck_hrrr_point() nan 40.76623 -111.84755\n",
      "------------------------------------!\n",
      "\n",
      " ! Could not get the file: https://pando-rgw01.chpc.utah.edu/HRRR/oper/sfc/20170317/hrrr.t05z.wrfsfcf00.grib2\n",
      " ! Is the variable right? WIND:10 m\n",
      " ! Does the file exist? https://api.mesowest.utah.edu/archive/HRRR/oper/sfc/20170317/hrrr.t05z.wrfsfcf00.grib2.idx\n"
     ]
    },
    {
     "name": "stderr",
     "output_type": "stream",
     "text": [
      "/uufs/chpc.utah.edu/common/home/u0553130/pyBKB_v2/BB_downloads/HRRR_S3.py:396: RuntimeWarning: invalid value encountered in absolute\n",
      "  abslat = np.abs(H['lat']-lat)\n",
      "/uufs/chpc.utah.edu/common/home/u0553130/pyBKB_v2/BB_downloads/HRRR_S3.py:397: RuntimeWarning: invalid value encountered in absolute\n",
      "  abslon = np.abs(H['lon']-lon)\n"
     ]
    },
    {
     "name": "stdout",
     "output_type": "stream",
     "text": [
      "\n",
      "------------------------------------!\n",
      " !> ERROR <! ERROR in pluck_hrrr_point() nan 40.76623 -111.84755\n",
      "------------------------------------!\n",
      "\n",
      " ! Could not get the file: https://pando-rgw01.chpc.utah.edu/HRRR/oper/sfc/20170211/hrrr.t21z.wrfsfcf00.grib2\n",
      " ! Is the variable right? WIND:10 m\n",
      " ! Does the file exist? https://api.mesowest.utah.edu/archive/HRRR/oper/sfc/20170211/hrrr.t21z.wrfsfcf00.grib2.idx\n"
     ]
    },
    {
     "name": "stderr",
     "output_type": "stream",
     "text": [
      "/uufs/chpc.utah.edu/common/home/u0553130/pyBKB_v2/BB_downloads/HRRR_S3.py:396: RuntimeWarning: invalid value encountered in absolute\n",
      "  abslat = np.abs(H['lat']-lat)\n",
      "/uufs/chpc.utah.edu/common/home/u0553130/pyBKB_v2/BB_downloads/HRRR_S3.py:397: RuntimeWarning: invalid value encountered in absolute\n",
      "  abslon = np.abs(H['lon']-lon)\n"
     ]
    },
    {
     "name": "stdout",
     "output_type": "stream",
     "text": [
      "\n",
      "------------------------------------!\n",
      " !> ERROR <! ERROR in pluck_hrrr_point() nan 40.76623 -111.84755\n",
      "------------------------------------!\n",
      "\n",
      " ! Could not get the file: https://pando-rgw01.chpc.utah.edu/HRRR/oper/sfc/20170101/hrrr.t05z.wrfsfcf00.grib2\n",
      " ! Is the variable right? WIND:10 m\n",
      " ! Does the file exist? https://api.mesowest.utah.edu/archive/HRRR/oper/sfc/20170101/hrrr.t05z.wrfsfcf00.grib2.idx\n"
     ]
    },
    {
     "name": "stderr",
     "output_type": "stream",
     "text": [
      "/uufs/chpc.utah.edu/common/home/u0553130/pyBKB_v2/BB_downloads/HRRR_S3.py:396: RuntimeWarning: invalid value encountered in absolute\n",
      "  abslat = np.abs(H['lat']-lat)\n",
      "/uufs/chpc.utah.edu/common/home/u0553130/pyBKB_v2/BB_downloads/HRRR_S3.py:397: RuntimeWarning: invalid value encountered in absolute\n",
      "  abslon = np.abs(H['lon']-lon)\n"
     ]
    },
    {
     "name": "stdout",
     "output_type": "stream",
     "text": [
      "\n",
      "------------------------------------!\n",
      " !> ERROR <! ERROR in pluck_hrrr_point() nan 40.76623 -111.84755\n",
      "------------------------------------!\n",
      "\n",
      " ! Could not get the file: https://pando-rgw01.chpc.utah.edu/HRRR/oper/sfc/20170203/hrrr.t13z.wrfsfcf00.grib2\n",
      " ! Is the variable right? WIND:10 m\n",
      " ! Does the file exist? https://api.mesowest.utah.edu/archive/HRRR/oper/sfc/20170203/hrrr.t13z.wrfsfcf00.grib2.idx\n"
     ]
    },
    {
     "name": "stderr",
     "output_type": "stream",
     "text": [
      "/uufs/chpc.utah.edu/common/home/u0553130/pyBKB_v2/BB_downloads/HRRR_S3.py:396: RuntimeWarning: invalid value encountered in absolute\n",
      "  abslat = np.abs(H['lat']-lat)\n",
      "/uufs/chpc.utah.edu/common/home/u0553130/pyBKB_v2/BB_downloads/HRRR_S3.py:397: RuntimeWarning: invalid value encountered in absolute\n",
      "  abslon = np.abs(H['lon']-lon)\n"
     ]
    },
    {
     "name": "stdout",
     "output_type": "stream",
     "text": [
      "\n",
      "------------------------------------!\n",
      " !> ERROR <! ERROR in pluck_hrrr_point() nan 40.76623 -111.84755\n",
      "------------------------------------!\n",
      "\n",
      " ! Could not get the file: https://pando-rgw01.chpc.utah.edu/HRRR/oper/sfc/20170308/hrrr.t21z.wrfsfcf00.grib2\n",
      " ! Is the variable right? WIND:10 m\n",
      " ! Does the file exist? https://api.mesowest.utah.edu/archive/HRRR/oper/sfc/20170308/hrrr.t21z.wrfsfcf00.grib2.idx\n"
     ]
    },
    {
     "name": "stderr",
     "output_type": "stream",
     "text": [
      "/uufs/chpc.utah.edu/common/home/u0553130/pyBKB_v2/BB_downloads/HRRR_S3.py:396: RuntimeWarning: invalid value encountered in absolute\n",
      "  abslat = np.abs(H['lat']-lat)\n",
      "/uufs/chpc.utah.edu/common/home/u0553130/pyBKB_v2/BB_downloads/HRRR_S3.py:397: RuntimeWarning: invalid value encountered in absolute\n",
      "  abslon = np.abs(H['lon']-lon)\n"
     ]
    },
    {
     "name": "stdout",
     "output_type": "stream",
     "text": [
      "\n",
      "------------------------------------!\n",
      " !> ERROR <! ERROR in pluck_hrrr_point() nan 40.76623 -111.84755\n",
      "------------------------------------!\n",
      "\n",
      " ! Could not get the file: https://pando-rgw01.chpc.utah.edu/HRRR/oper/sfc/20170109/hrrr.t13z.wrfsfcf00.grib2\n",
      " ! Is the variable right? WIND:10 m\n",
      " ! Does the file exist? https://api.mesowest.utah.edu/archive/HRRR/oper/sfc/20170109/hrrr.t13z.wrfsfcf00.grib2.idx\n",
      " ! Could not get the file: https://pando-rgw01.chpc.utah.edu/HRRR/oper/sfc/20170130/hrrr.t09z.wrfsfcf00.grib2\n",
      " ! Is the variable right? WIND:10 m\n",
      " ! Does the file exist? https://api.mesowest.utah.edu/archive/HRRR/oper/sfc/20170130/hrrr.t09z.wrfsfcf00.grib2.idx\n"
     ]
    },
    {
     "name": "stderr",
     "output_type": "stream",
     "text": [
      "/uufs/chpc.utah.edu/common/home/u0553130/pyBKB_v2/BB_downloads/HRRR_S3.py:396: RuntimeWarning: invalid value encountered in absolute\n",
      "  abslat = np.abs(H['lat']-lat)\n",
      "/uufs/chpc.utah.edu/common/home/u0553130/pyBKB_v2/BB_downloads/HRRR_S3.py:396: RuntimeWarning: invalid value encountered in absolute\n",
      "  abslat = np.abs(H['lat']-lat)\n",
      "/uufs/chpc.utah.edu/common/home/u0553130/pyBKB_v2/BB_downloads/HRRR_S3.py:397: RuntimeWarning: invalid value encountered in absolute\n",
      "  abslon = np.abs(H['lon']-lon)\n",
      "/uufs/chpc.utah.edu/common/home/u0553130/pyBKB_v2/BB_downloads/HRRR_S3.py:397: RuntimeWarning: invalid value encountered in absolute\n",
      "  abslon = np.abs(H['lon']-lon)\n"
     ]
    },
    {
     "name": "stdout",
     "output_type": "stream",
     "text": [
      "\n",
      "------------------------------------!\n",
      "------------------------------------!\n",
      "\n",
      " !> ERROR <! ERROR in pluck_hrrr_point() nan 40.76623 -111.84755\n",
      " !> ERROR <! ERROR in pluck_hrrr_point() nan 40.76623 -111.84755\n",
      "------------------------------------!\n",
      "------------------------------------!\n",
      "\n",
      "\n"
     ]
    }
   ],
   "source": [
    "# MesoWest Station Info\n",
    "LD = get_MW_location_dict(stn)\n",
    "MWlat = LD[stn]['latitude']\n",
    "MWlon = LD[stn]['longitude']\n",
    "\n",
    "# Get MewsoWest Time Series\n",
    "if plot_MW:\n",
    "    # Get MesoWest Time Series\n",
    "    a = get_mesowest_ts(stn, sDATE, eDATE, variables=MWvar,)\n",
    "\n",
    "    # Convert datetime to a leap year date so we can easily plot them with percentiles, sharing the axis.\n",
    "    MW_DATES = [datetime(2016, d.month, d.day, d.hour, d.minute) for d in a['DATETIME']]\n",
    "\n",
    "# Get HRRR Time Series for analysis (f00)\n",
    "if plot_HRRR:\n",
    "    if var == 'UVGRD:10 m':\n",
    "        \"\"\"\n",
    "        HRRR_date, U = point_hrrr_time_series(sDATE, eDATE,\n",
    "                                              variable='UGRD:10 m',\n",
    "                                              lat=MWlat, lon=MWlon,\n",
    "                                              verbose=False)\n",
    "        HRRR_date, V = point_hrrr_time_series(sDATE, eDATE,\n",
    "                                              variable='UGRD:10 m',\n",
    "                                              lat=MWlat, lon=MWlon,\n",
    "                                              verbose=False)\n",
    "        HRRR_val = wind_uv_to_spd(U, V)\n",
    "        \"\"\"\n",
    "        HRRR_date, HRRR_val = point_hrrr_time_series(sDATE, eDATE,\n",
    "                                                     variable='WIND:10 m',\n",
    "                                                     lat=MWlat, lon=MWlon,\n",
    "                                                     verbose=False)\n",
    "\n",
    "    else:\n",
    "        HRRR_date, HRRR_val = point_hrrr_time_series(sDATE, eDATE,\n",
    "                                                     variable='TMP:2 m',\n",
    "                                                     lat=MWlat, lon=MWlon,\n",
    "                                                     verbose=False)\n",
    "        HRRR_val = HRRR_val-273.15\n",
    "\n",
    "    HRRR_DATES = [datetime(2016, d.month, d.day, d.hour, d.minute) for d in HRRR_date]"
   ]
  },
  {
   "cell_type": "code",
   "execution_count": null,
   "metadata": {
    "collapsed": false,
    "scrolled": true
   },
   "outputs": [],
   "source": [
    "# Get Time Series Data for each requested Statistic\n",
    "# HTS is the HRRR-statistic Time Series\n",
    "\n",
    "# Pluck point\n",
    "point = pluck_point_new(MWlat, MWlon, lat, lon)\n",
    "\n",
    "print \"Station:\", stn\n",
    "print \"Grid Point:\", point\n",
    "print \"Variable:\", var, 'and', MWvar\n",
    "print \"Statistic:\", statistics\n",
    "\n",
    "HTS = OrderedDict()\n",
    "for i, stat in enumerate(statistics):\n",
    "    # Multiprocessing :)\n",
    "    args = [[DIR+'OSG_HRRR_%s_m%02d_d%02d_h%02d_f00.h5' % \\\n",
    "            (variable, month, day, hour), stat, point[0][0], point[1][0]] \\\n",
    "            for month in months for day in range(1,days[month-1]+1) for hour in hours]\n",
    "    timer = datetime.now()\n",
    "    num_proc = multiprocessing.cpu_count()\n",
    "    p = multiprocessing.Pool(num_proc)\n",
    "    HTS[stat] = np.array(p.map(get_point_MP, args))\n",
    "    p.close()\n",
    "    if var == 'TMP:2 m':\n",
    "        HTS[stat] = HTS[stat]-273.15\n",
    "        ylabel = '2 m Temperature (C)'\n",
    "    elif var == 'DPT:2 m':\n",
    "        HTS[stat] = HTS[stat]-273.15\n",
    "        ylabel = '2 m Dew Point (C)'\n",
    "    elif var == 'UVGRD:10 m':\n",
    "        ylabel = r'10 m Wind Speed (m s$\\mathregular{^{-1}}$)'\n",
    "    print \"%s Timer:%s\" % (stat, datetime.now()-timer)"
   ]
  },
  {
   "cell_type": "markdown",
   "metadata": {},
   "source": [
    "### Plot all Percentiles Requested"
   ]
  },
  {
   "cell_type": "code",
   "execution_count": null,
   "metadata": {
    "collapsed": false,
    "scrolled": true
   },
   "outputs": [],
   "source": [
    "for i, stat in enumerate(HTS.keys()):  \n",
    "    plt.plot(DATES, HTS[stat], label=stat)\n",
    "\n",
    "plt.title('Station: %s\\nVariable: %s\\nHours:%s' % (stn, var, hours))\n",
    "plt.ylabel(ylabel)\n",
    "\n",
    "plt.gca().xaxis.set_major_formatter(formatter)\n",
    "\n",
    "if plot_MW:\n",
    "    plt.plot(MW_DATES, a[MWvar], label='MesoWest', color='k', lw=0.4)\n",
    "\n",
    "plt.xlim([sPLOT, ePLOT])\n",
    "plt.legend()\n",
    "plt.grid()"
   ]
  },
  {
   "cell_type": "markdown",
   "metadata": {},
   "source": [
    "### Fill Between 5-50 and 50-95 Percentiles"
   ]
  },
  {
   "cell_type": "code",
   "execution_count": null,
   "metadata": {
    "collapsed": false
   },
   "outputs": [],
   "source": [
    "plt.fill_between(DATES, HTS['p05'], HTS['p50'], facecolor='lightgrey',linewidth=0, label='p05-p50')\n",
    "plt.fill_between(DATES, HTS['p50'], HTS['p95'], facecolor='grey', linewidth=0, label='p50-p95')\n",
    "\n",
    "plt.title('Station: %s\\nVariable: %s\\nHours:%s' % (stn, var, hours))\n",
    "plt.ylabel(ylabel)\n",
    "\n",
    "plt.gca().xaxis.set_major_formatter(formatter)\n",
    "\n",
    "if plot_MW:\n",
    "    plt.plot(MW_DATES, a[MWvar], label='MesoWest', color='k', lw=0.7)\n",
    "\n",
    "if plot_HRRR:\n",
    "    plt.plot(HRRR_DATES, HRRR_val, color='r', label='HRRR f00')\n",
    "\n",
    "plt.xlim([sPLOT, ePLOT])\n",
    "plt.legend()\n",
    "plt.grid()"
   ]
  },
  {
   "cell_type": "code",
   "execution_count": null,
   "metadata": {
    "collapsed": false,
    "scrolled": true
   },
   "outputs": [],
   "source": [
    "plt.fill_between(DATES, HTS['p25'], HTS['p75'], facecolor='grey', linewidth=0, label='p25-p75')\n",
    "plt.fill_between(DATES, HTS['p75'], HTS['p95'], facecolor='lightgrey', linewidth=0, label='p05-p95')\n",
    "plt.fill_between(DATES, HTS['p05'], HTS['p25'], facecolor='lightgrey', linewidth=0)\n",
    "#plt.plot(DATES, HTS['p50'], color='w', lw=.5, label='p50')\n",
    "plt.plot(DATES, HTS['p100'], color='k', lw=.5, label='max, min')\n",
    "plt.plot(DATES, HTS['p00'], color='k', lw=.5)\n",
    "plt.title('Station: %s\\nVariable: %s\\nHours:%s' % (stn, var, hours))\n",
    "plt.ylabel(ylabel)\n",
    "\n",
    "plt.gca().xaxis.set_major_formatter(formatter)\n",
    "\n",
    "if plot_MW:\n",
    "    plt.plot(MW_DATES, a[MWvar], label='MesoWest', color='k', lw=0.7)\n",
    "\n",
    "if plot_HRRR:\n",
    "    plt.plot(HRRR_DATES, HRRR_val, color='r', label='HRRR f00')\n",
    "\n",
    "plt.xlim([sPLOT, ePLOT])\n",
    "plt.legend()\n",
    "plt.grid()"
   ]
  },
  {
   "cell_type": "markdown",
   "metadata": {
    "collapsed": true
   },
   "source": [
    "### Fill between 5, 25, 50, 75, 95 Percentile. Max and Min."
   ]
  },
  {
   "cell_type": "code",
   "execution_count": null,
   "metadata": {
    "collapsed": false,
    "scrolled": true
   },
   "outputs": [],
   "source": [
    "plt.fill_between(DATES, HTS['p25'], HTS['p75'], facecolor='grey', linewidth=0, label='p25-p75')\n",
    "plt.fill_between(DATES, HTS['p75'], HTS['p95'], facecolor='lightgrey', linewidth=0, label='p05-p95')\n",
    "plt.fill_between(DATES, HTS['p05'], HTS['p25'], facecolor='lightgrey', linewidth=0)\n",
    "plt.plot(DATES, HTS['p50'], color='w', lw=.5, label='p50')\n",
    "plt.plot(DATES, HTS['p100'], color='k', lw=.5, label='max, min')\n",
    "plt.plot(DATES, HTS['p00'], color='k', lw=.5)\n",
    "\n",
    "plt.title('Station: %s\\nVariable: %s\\nHours:%s' % (stn, var, hours))\n",
    "plt.ylabel(ylabel)\n",
    "\n",
    "plt.gca().xaxis.set_major_formatter(formatter)\n",
    "\n",
    "if plot_MW:\n",
    "    plt.plot(MW_DATES, a[MWvar], label='MesoWest', color='red', lw=3)\n",
    "\n",
    "if plot_HRRR:\n",
    "    plt.plot(HRRR_DATES, HRRR_val, color='orange', label='HRRR f00', lw=3.5)\n",
    "\n",
    "plt.xlim([sPLOT, ePLOT])\n",
    "plt.legend()\n",
    "plt.grid()"
   ]
  },
  {
   "cell_type": "markdown",
   "metadata": {},
   "source": [
    "### Percentiles with Pollywogs"
   ]
  },
  {
   "cell_type": "code",
   "execution_count": null,
   "metadata": {
    "collapsed": false
   },
   "outputs": [],
   "source": [
    "if plot_POLYWOG:\n",
    "    # Start and End POLYwog plots\n",
    "    sPOLY = datetime(2017, 10, 8)\n",
    "    ePOLY = datetime(2017, 10, 10)\n",
    "\n",
    "    # Station\n",
    "    LD = get_MW_location_dict(stn)\n",
    "\n",
    "    # Pollywog hours: a list of hours you want a pollywog to spawn\n",
    "    pHours = range(0, 24, 6)\n",
    "\n",
    "    # Head hours: a list of hours you want to plot a pollywog head (analysis value (f00))\n",
    "    hHours = range(0, 24, 1)\n",
    "\n",
    "    # Variable names for HRRR\n",
    "    if var.split(':')[0] == 'UVGRD':\n",
    "        HR_var = 'WIND:10 m'\n",
    "    else:\n",
    "        HR_var = var\n",
    "\n",
    "    #=====================================================================\n",
    "\n",
    "    # Create hourly range\n",
    "    polyHOURS = (ePOLY-sPOLY).days * 24 + (ePOLY-sPOLY).seconds/3600\n",
    "    polyDATES = np.array([sPOLY + timedelta(hours=x) for x in range(0, polyHOURS)])\n",
    "\n",
    "    # Cycle pollywogs through these colors.\n",
    "    colors = ['red', 'royalblue', 'green', 'darkorange'] * 50\n",
    "\n",
    "    color_count = 0"
   ]
  },
  {
   "cell_type": "code",
   "execution_count": null,
   "metadata": {
    "collapsed": false,
    "scrolled": true
   },
   "outputs": [],
   "source": [
    "if plot_POLYWOG:\n",
    "    # Plot percentile shading\n",
    "    plt.fill_between(DATES, HTS['p25'], HTS['p75'], facecolor='grey', linewidth=0, label='p25-p75')\n",
    "    plt.fill_between(DATES, HTS['p75'], HTS['p95'], facecolor='lightgrey', linewidth=0, label='p05-p95')\n",
    "    plt.fill_between(DATES, HTS['p05'], HTS['p25'], facecolor='lightgrey', linewidth=0)\n",
    "    plt.plot(DATES, HTS['p50'], color='k', lw=.5, label='min, p50, max')\n",
    "    plt.plot(DATES, HTS['p100'], color='k', lw=.5)\n",
    "    plt.plot(DATES, HTS['p00'], color='k', lw=.5)\n",
    "\n",
    "    plt.title('Station: %s\\nVariable: %s\\nHours:%s' % (stn, var, hours))\n",
    "    plt.ylabel(ylabel)\n",
    "\n",
    "    plt.gca().xaxis.set_major_formatter(formatter)\n",
    "\n",
    "    if plot_MW:\n",
    "        plt.plot(MW_DATES, a[MWvar], label='MesoWest', color='k', lw=3, ls='--')\n",
    "\n",
    "    plt.xlim([sPLOT, ePLOT])\n",
    "    if var.split(':')[0] == 'UVGRD':\n",
    "        plt.ylim(ymin=0)\n",
    "    plt.legend()\n",
    "    plt.grid()\n",
    "\n",
    "    # Plot each pollywog head and tail\n",
    "    for D in polyDATES:\n",
    "        if D.hour in pHours:\n",
    "            # Get full pollywog for each hour requested\n",
    "            P = get_hrrr_pollywog_multi(D, HR_var, LD, verbose=False); print 'Got pollywog', D\n",
    "\n",
    "            # Convert units if necessary\n",
    "            if MWvar == 'air_temp':\n",
    "                P_value = P[stn]-273.15\n",
    "            if MWvar == 'sea_level_pressure':\n",
    "                P_value = P[stn]/100\n",
    "            else:\n",
    "                P_value = P[stn]\n",
    "\n",
    "            # Convert dates to leap year\n",
    "            P['DATETIME'] = [datetime(2016, DD.month, DD.day, DD.hour) for DD in P['DATETIME']]\n",
    "\n",
    "            # Plot the HRRR pollywog\n",
    "            # Head\n",
    "            plt.scatter(P['DATETIME'][0], P_value[0], c=colors[color_count], s=130, lw=0, zorder=2)\n",
    "            # Tail\n",
    "            plt.plot(P['DATETIME'], P_value, c=colors[color_count], lw=3, zorder=2)\n",
    "            color_count += 1\n",
    "\n",
    "        if D.hour in hHours:\n",
    "            # Plot the HRRR data point grey. Have to redownload P just in case it doesn't exist already\n",
    "            P = get_hrrr_pollywog_multi(D, HR_var, LD, forecast_limit=0, verbose=False); print \"got head\", D\n",
    "\n",
    "            # Convert dates to leap year\n",
    "            P['DATETIME'] = [datetime(2016, DD.month, DD.day, DD.hour) for DD in P['DATETIME']]\n",
    "\n",
    "            # Convert units if necessary\n",
    "            if MWvar == 'air_temp':\n",
    "                P_value = P[stn]-273.15\n",
    "            if MWvar == 'sea_level_pressure':\n",
    "                P_value = P[stn]/100\n",
    "            else:\n",
    "                P_value = P[stn]\n",
    "            plt.scatter(P['DATETIME'][0], P_value[0], c=[.2, .2, .2], s=50, lw=0, zorder=3)\n",
    "    plt.grid()"
   ]
  },
  {
   "cell_type": "code",
   "execution_count": null,
   "metadata": {
    "collapsed": false,
    "scrolled": false
   },
   "outputs": [],
   "source": []
  },
  {
   "cell_type": "code",
   "execution_count": null,
   "metadata": {
    "collapsed": true
   },
   "outputs": [],
   "source": []
  }
 ],
 "metadata": {
  "kernelspec": {
   "display_name": "Python 2",
   "language": "python",
   "name": "python2"
  },
  "language_info": {
   "codemirror_mode": {
    "name": "ipython",
    "version": 2
   },
   "file_extension": ".py",
   "mimetype": "text/x-python",
   "name": "python",
   "nbconvert_exporter": "python",
   "pygments_lexer": "ipython2",
   "version": "2.7.11"
  }
 },
 "nbformat": 4,
 "nbformat_minor": 0
}
