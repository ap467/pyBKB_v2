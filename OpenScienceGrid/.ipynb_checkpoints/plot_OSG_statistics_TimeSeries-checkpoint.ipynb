{
 "cells": [
  {
   "cell_type": "markdown",
   "metadata": {
    "collapsed": true
   },
   "source": [
    "# Time Series HRRR Statistics from OSG"
   ]
  },
  {
   "cell_type": "code",
   "execution_count": 45,
   "metadata": {
    "collapsed": true
   },
   "outputs": [],
   "source": [
    "%matplotlib inline\n",
    "import h5py\n",
    "import matplotlib.pyplot as plt\n",
    "import multiprocessing\n",
    "import numpy as np\n",
    "from collections import OrderedDict\n",
    "\n",
    "import sys\n",
    "import sys\n",
    "sys.path.append('/uufs/chpc.utah.edu/common/home/u0553130/pyBKB_v2')\n",
    "from BB_downloads.HRRR_S3 import *\n",
    "from BB_basemap.draw_maps import draw_CONUS_HRRR_map\n",
    "from BB_MesoWest.MesoWest_STNinfo import get_station_info\n",
    "from BB_MesoWest.MesoWest_timeseries import get_mesowest_ts\n",
    "from BB_data.grid_manager import pluck_point_new"
   ]
  },
  {
   "cell_type": "code",
   "execution_count": 46,
   "metadata": {
    "collapsed": true
   },
   "outputs": [],
   "source": [
    "from matplotlib.dates import DateFormatter\n",
    "formatter = DateFormatter('%b\\n%d')\n",
    "\n",
    "import matplotlib as mpl \n",
    "mpl.rcParams['figure.figsize'] = [15, 6]\n",
    "mpl.rcParams['figure.titlesize'] = 15\n",
    "mpl.rcParams['figure.titleweight'] = 'bold'\n",
    "mpl.rcParams['xtick.labelsize'] = 10\n",
    "mpl.rcParams['ytick.labelsize'] = 10\n",
    "mpl.rcParams['axes.labelsize'] = 10\n",
    "mpl.rcParams['axes.titlesize'] = 12\n",
    "mpl.rcParams['lines.linewidth'] = 1.8\n",
    "mpl.rcParams['grid.linewidth'] = .25\n",
    "mpl.rcParams['figure.subplot.wspace'] = 0.05\n",
    "mpl.rcParams['figure.subplot.hspace'] = 0.05\n",
    "mpl.rcParams['legend.fontsize'] = 8\n",
    "mpl.rcParams['legend.framealpha'] = .75\n",
    "mpl.rcParams['legend.loc'] = 'best'\n",
    "mpl.rcParams['savefig.bbox'] = 'tight'\n",
    "mpl.rcParams['savefig.dpi'] = 100"
   ]
  },
  {
   "cell_type": "code",
   "execution_count": 47,
   "metadata": {
    "collapsed": true
   },
   "outputs": [],
   "source": [
    "m = draw_CONUS_HRRR_map()"
   ]
  },
  {
   "cell_type": "markdown",
   "metadata": {},
   "source": [
    "### Get lat/lon grid from file for plotting"
   ]
  },
  {
   "cell_type": "code",
   "execution_count": 48,
   "metadata": {
    "collapsed": true
   },
   "outputs": [],
   "source": [
    "DIR = '/uufs/chpc.utah.edu/common/home/horel-group2/blaylock/HRRR_OSG/'\n",
    "latlon_file = h5py.File(DIR+'OSG_HRRR_latlon.h5', 'r')\n",
    "lat = latlon_file['latitude'].value\n",
    "lon = latlon_file['longitude'].value"
   ]
  },
  {
   "cell_type": "markdown",
   "metadata": {},
   "source": [
    "### Get a point from the grid (multiprocessor)"
   ]
  },
  {
   "cell_type": "code",
   "execution_count": 49,
   "metadata": {
    "collapsed": true
   },
   "outputs": [],
   "source": [
    "def get_point_MP(inputs):\n",
    "    \"\"\"\n",
    "    Function for MultiProcessing:\n",
    "    Return the value from a point in the HDF5 file array\n",
    "    \"\"\"\n",
    "    FILE, STAT, ROW, COL = inputs\n",
    "    try:\n",
    "        with h5py.File(FILE, 'r') as f:\n",
    "            return f[STAT][ROW][COL]\n",
    "    except:\n",
    "        #print \"COULD NOT GET\", FILE\n",
    "        return np.nan"
   ]
  },
  {
   "cell_type": "markdown",
   "metadata": {},
   "source": [
    "-------"
   ]
  },
  {
   "cell_type": "markdown",
   "metadata": {},
   "source": [
    "# Time Series"
   ]
  },
  {
   "cell_type": "markdown",
   "metadata": {},
   "source": [
    "### Input Arguments\n",
    "statistic can be from the list:  \n",
    "`mean, p00, p01, p02, p03, p04, p05, p10, p15, p25, p33, p50, p66, p75, p90, p95, p96, p97, p98, p99, p100`"
   ]
  },
  {
   "cell_type": "code",
   "execution_count": 50,
   "metadata": {
    "collapsed": true
   },
   "outputs": [],
   "source": [
    "statistics = ['p05', 'p50', 'p95']\n",
    "var = 'TMP:2 m'\n",
    "stn = 'WBB'\n",
    "fxx = 0\n",
    "\n",
    "months = range(1,13)\n",
    "hours = range(24)\n",
    "#hours = [18]"
   ]
  },
  {
   "cell_type": "markdown",
   "metadata": {},
   "source": [
    "##### Additional Setup"
   ]
  },
  {
   "cell_type": "code",
   "execution_count": null,
   "metadata": {
    "collapsed": false
   },
   "outputs": [],
   "source": [
    "variable = var.replace(':', '_').replace(' ', '_')\n",
    "DIR = '/uufs/chpc.utah.edu/common/home/horel-group2/blaylock/HRRR_OSG/hourly30/%s/' % (variable)\n",
    "\n",
    "if var == 'TMP:2 m':\n",
    "    MWvar = 'air_temp'\n",
    "elif var == 'DPT:2 m':\n",
    "    MWvar == 'dew_point_temperature'\n",
    "elif var == 'UVGRD:10 m':\n",
    "    MWvar == 'wind_speed'\n",
    "\n",
    "days = [31, 29, 31, 30, 31, 30, 31, 31, 30, 31, 30, 31]\n",
    "\n",
    "# Dates (with leap year)\n",
    "HOURS = np.sum(days[0:len(months)])*24 # number of days times 24\n",
    "DATES = np.array([datetime(2016, 1, 1) + timedelta(hours = h) for h in range(HOURS)])\n",
    "DATES = DATES[::24/len(hours)] # in case we don't request all 24 hours"
   ]
  },
  {
   "cell_type": "markdown",
   "metadata": {},
   "source": [
    "### Get a time series for a point"
   ]
  },
  {
   "cell_type": "code",
   "execution_count": null,
   "metadata": {
    "collapsed": false,
    "scrolled": true
   },
   "outputs": [
    {
     "name": "stdout",
     "output_type": "stream",
     "text": [
      "Station: WBB\n",
      "Grid Point: (array([644]), array([498]))\n",
      "Variable: TMP:2 m\n",
      "Statistic: ['p05', 'p50', 'p95']\n"
     ]
    }
   ],
   "source": [
    "# Get Time Series Data for each requested Statistic\n",
    "# HTS is the HRRR-statistic Time Series\n",
    "\n",
    "# MesoWest Station Info\n",
    "b = get_station_info([stn])\n",
    "\n",
    "# Pluck point\n",
    "point = pluck_point_new(b['LAT'][0], b['LON'][0], lat, lon)\n",
    "\n",
    "print \"Station:\", stn\n",
    "print \"Grid Point:\", point\n",
    "print \"Variable:\", var, 'and', MWvar\n",
    "print \"Statistic:\", statistics\n",
    "\n",
    "HTS = OrderedDict()\n",
    "for i, stat in enumerate(statistics):\n",
    "    # Multiprocessing :)\n",
    "    args = [[DIR+'OSG_HRRR_%s_m%02d_d%02d_h%02d_f00.h5' % \\\n",
    "            (variable, month, day, hour), stat, point[0][0], point[1][0]] \\\n",
    "            for month in months for day in range(1,days[month-1]+1) for hour in hours]\n",
    "    timer = datetime.now()\n",
    "    num_proc = multiprocessing.cpu_count()\n",
    "    p = multiprocessing.Pool(num_proc)\n",
    "    HTS[stat] = np.array(p.map(get_point_MP, args))\n",
    "    p.close()\n",
    "    if var == 'TMP:2 m':\n",
    "        HTS[stat] = HTS[stat]-273.15\n",
    "        ylabel = '2 m Temperature (C)'\n",
    "    elif var == 'DPT:2 m':\n",
    "        HTS[stat] = HTS[stat]-273.15\n",
    "        ylabel = '2 m Dew Point (C)'\n",
    "    elif var == 'UVGRD:10 m':\n",
    "        ylabel = r'10 m Wind Speed (m s$\\mathregular{^{-1}}$)'\n",
    "    print \"%s Timer:%s\" % (stat, datetime.now()-timer)"
   ]
  },
  {
   "cell_type": "markdown",
   "metadata": {},
   "source": [
    "### Create Figure"
   ]
  },
  {
   "cell_type": "code",
   "execution_count": null,
   "metadata": {
    "collapsed": false
   },
   "outputs": [],
   "source": [
    "# Get MesoWest Time Series\n",
    "a = get_mesowest_ts(stn, datetime(2017, 1, 1), datetime.now(), variables=MWvar,)\n",
    "MW_DATES = [datetime(2016, d.month, d.day, d.hour, d.minute) for d in a['DATETIME']]"
   ]
  },
  {
   "cell_type": "code",
   "execution_count": null,
   "metadata": {
    "collapsed": false
   },
   "outputs": [],
   "source": [
    "for i, stat in enumerate(HTS.keys()):  \n",
    "    plt.plot(DATES, HTS[stat], label=stat)\n",
    "\n",
    "plt.title('Station: %s\\nVariable: %s\\nHours:%s' % (stn, var, hours))\n",
    "plt.ylabel(ylabel)\n",
    "\n",
    "plt.gca().xaxis.set_major_formatter(formatter)\n",
    "\n",
    "\n",
    "plt.plot(MW_DATES, a[MWvar], label='MesoWest', color='k', lw=0.4)\n",
    "\n",
    "plt.xlim([datetime(2016, 1, 1), datetime(2016, 1, 15)])\n",
    "plt.legend()\n",
    "plt.grid()"
   ]
  },
  {
   "cell_type": "code",
   "execution_count": null,
   "metadata": {
    "collapsed": true
   },
   "outputs": [],
   "source": [
    "\n"
   ]
  }
 ],
 "metadata": {
  "kernelspec": {
   "display_name": "Python 2",
   "language": "python",
   "name": "python2"
  },
  "language_info": {
   "codemirror_mode": {
    "name": "ipython",
    "version": 2
   },
   "file_extension": ".py",
   "mimetype": "text/x-python",
   "name": "python",
   "nbconvert_exporter": "python",
   "pygments_lexer": "ipython2",
   "version": "2.7.11"
  }
 },
 "nbformat": 4,
 "nbformat_minor": 0
}
