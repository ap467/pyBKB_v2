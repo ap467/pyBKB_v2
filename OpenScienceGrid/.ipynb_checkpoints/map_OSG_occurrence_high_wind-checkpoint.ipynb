{
 "cells": [
  {
   "cell_type": "markdown",
   "metadata": {},
   "source": [
    "# Mapping Occurance of High Winds"
   ]
  },
  {
   "cell_type": "code",
   "execution_count": 2,
   "metadata": {
    "collapsed": true
   },
   "outputs": [],
   "source": [
    "%matplotlib inline\n",
    "import h5py\n",
    "import matplotlib.pyplot as plt\n",
    "import multiprocessing\n",
    "import numpy as np\n",
    "from collections import OrderedDict\n",
    "\n",
    "import sys\n",
    "import sys\n",
    "sys.path.append('/uufs/chpc.utah.edu/common/home/u0553130/pyBKB_v2')\n",
    "from BB_downloads.HRRR_S3 import *\n",
    "from BB_wx_calcs.wind import wind_uv_to_spd\n",
    "from BB_basemap.draw_maps import draw_CONUS_HRRR_map\n",
    "from BB_MesoWest.MesoWest_STNinfo import get_MW_location_dict\n",
    "from BB_MesoWest.MesoWest_timeseries import get_mesowest_ts\n",
    "from BB_data.grid_manager import pluck_point_new\n",
    "\n",
    "from matplotlib.dates import DateFormatter\n",
    "formatter = DateFormatter('%b\\n%d')\n",
    "\n",
    "import matplotlib as mpl \n",
    "mpl.rcParams['figure.figsize'] = [15, 6]\n",
    "mpl.rcParams['figure.titlesize'] = 15\n",
    "mpl.rcParams['figure.titleweight'] = 'bold'\n",
    "mpl.rcParams['xtick.labelsize'] = 10\n",
    "mpl.rcParams['ytick.labelsize'] = 10\n",
    "mpl.rcParams['axes.labelsize'] = 10\n",
    "mpl.rcParams['axes.titlesize'] = 12\n",
    "mpl.rcParams['lines.linewidth'] = 1.8\n",
    "mpl.rcParams['grid.linewidth'] = .25\n",
    "mpl.rcParams['figure.subplot.wspace'] = 0.05\n",
    "mpl.rcParams['figure.subplot.hspace'] = 0.05\n",
    "mpl.rcParams['legend.fontsize'] = 8\n",
    "mpl.rcParams['legend.framealpha'] = .75\n",
    "mpl.rcParams['legend.loc'] = 'best'\n",
    "mpl.rcParams['savefig.bbox'] = 'tight'\n",
    "mpl.rcParams['savefig.dpi'] = 100"
   ]
  },
  {
   "cell_type": "code",
   "execution_count": 3,
   "metadata": {
    "collapsed": true
   },
   "outputs": [],
   "source": [
    "m = draw_CONUS_HRRR_map()"
   ]
  },
  {
   "cell_type": "markdown",
   "metadata": {},
   "source": [
    "### Get lat/lon grid from file for plotting"
   ]
  },
  {
   "cell_type": "code",
   "execution_count": 4,
   "metadata": {
    "collapsed": true
   },
   "outputs": [],
   "source": [
    "DIR = '/uufs/chpc.utah.edu/common/home/horel-group2/blaylock/HRRR_OSG/'\n",
    "latlon_file = h5py.File(DIR+'OSG_HRRR_latlon.h5', 'r')\n",
    "lat = latlon_file['latitude'].value\n",
    "lon = latlon_file['longitude'].value"
   ]
  },
  {
   "cell_type": "markdown",
   "metadata": {},
   "source": [
    "## Get OSG field"
   ]
  },
  {
   "cell_type": "code",
   "execution_count": null,
   "metadata": {
    "collapsed": true
   },
   "outputs": [],
   "source": [
    "def get_point_MP(inputs):\n",
    "    \"\"\"\n",
    "    Function for MultiProcessing:\n",
    "    Return the value from a point in the HDF5 file array\n",
    "    \"\"\"\n",
    "    FILE, STAT = inputs\n",
    "    try:\n",
    "        with h5py.File(FILE, 'r') as f:\n",
    "            return f[STAT]\n",
    "    except:\n",
    "        #print \"COULD NOT GET\", FILE\n",
    "        return np.nan"
   ]
  },
  {
   "cell_type": "markdown",
   "metadata": {},
   "source": [
    "------"
   ]
  },
  {
   "cell_type": "markdown",
   "metadata": {},
   "source": [
    "# Summarize the statistics\n",
    "i.e. How often are the 95th percentile winds greater than 8 m/s?"
   ]
  },
  {
   "cell_type": "code",
   "execution_count": 5,
   "metadata": {
    "collapsed": true
   },
   "outputs": [],
   "source": [
    "statistics = ['p95']\n",
    "var = 'UVGRD:10 m'\n",
    "\n",
    "hours = range(24)"
   ]
  }
 ],
 "metadata": {
  "kernelspec": {
   "display_name": "Python 2",
   "language": "python",
   "name": "python2"
  },
  "language_info": {
   "codemirror_mode": {
    "name": "ipython",
    "version": 2
   },
   "file_extension": ".py",
   "mimetype": "text/x-python",
   "name": "python",
   "nbconvert_exporter": "python",
   "pygments_lexer": "ipython2",
   "version": "2.7.11"
  }
 },
 "nbformat": 4,
 "nbformat_minor": 0
}
