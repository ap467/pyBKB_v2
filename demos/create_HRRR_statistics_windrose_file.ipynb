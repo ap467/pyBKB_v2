{
 "cells": [
  {
   "cell_type": "markdown",
   "metadata": {},
   "source": [
    "# HRRR Wind Roses from OSG\n",
    "Brian Blaylock  \n",
    "October 6, 2017\n",
    "\n",
    "Histogram bins for series of HRRR wind speed and direction\n",
    "Shows how to plot data from wind roses binned by the Open Science Grid."
   ]
  },
  {
   "cell_type": "code",
   "execution_count": 1,
   "metadata": {
    "collapsed": true
   },
   "outputs": [],
   "source": [
    "%matplotlib inline\n",
    "import numpy as np\n",
    "from datetime import datetime, timedelta\n",
    "from netCDF4 import Dataset\n",
    "import multiprocessing # :)\n",
    "import matplotlib.pyplot as plt\n",
    "import h5py\n",
    "\n",
    "import sys\n",
    "sys.path.append('/uufs/chpc.utah.edu/common/home/u0553130/pyBKB_v2/')\n",
    "from BB_downloads.HRRR_S3 import get_hrrr_variable\n",
    "from BB_wx_calcs.wind import wind_uv_to_spd, wind_uv_to_dir"
   ]
  },
  {
   "cell_type": "code",
   "execution_count": 2,
   "metadata": {
    "collapsed": true
   },
   "outputs": [],
   "source": [
    "def get_HRRR_value(getthisDATE):\n",
    "    \"\"\"\n",
    "    Getting HRRR data, just return the value (not the latitude and longitude)\n",
    "    \"\"\"\n",
    "    H = get_hrrr_variable(getthisDATE, variable, fxx=fxx, model='hrrr', field='sfc', value_only=True, verbose=False)\n",
    "    if H['value'] is None:\n",
    "        print \"!! WARNING !! COULD NOT GET\", getthisDATE\n",
    "    return H['value']"
   ]
  },
  {
   "cell_type": "code",
   "execution_count": 3,
   "metadata": {
    "collapsed": true
   },
   "outputs": [],
   "source": [
    "def histogram(direction, var, bins, nsector, normed=False, blowto=False):\n",
    "    \"\"\"\n",
    "    From windrose: https://github.com/python-windrose/windrose/\n",
    "    Returns an array where, for each sector of wind\n",
    "    (centred on the north), we have the number of time the wind comes with a\n",
    "    particular var (speed, polluant concentration, ...).\n",
    "    * direction : 1D array - directions the wind blows from, North centred\n",
    "    * var : 1D array - values of the variable to compute. Typically the wind\n",
    "      speeds\n",
    "    * bins : list - list of var category against we're going to compute the table\n",
    "    * nsector : integer - number of sectors\n",
    "    * normed : boolean - The resulting table is normed in percent or not.\n",
    "    * blowto : boolean - Normaly a windrose is computed with directions\n",
    "    as wind blows from. If true, the table will be reversed (usefull for\n",
    "    pollutantrose)\n",
    "    \"\"\"\n",
    "    if len(var) != len(direction):\n",
    "        raise(ValueError(\"var and direction must have same length\"))\n",
    "\n",
    "    angle = 360. / nsector\n",
    "\n",
    "    dir_bins = np.arange(-angle / 2, 360. + angle, angle, dtype=np.float)\n",
    "    dir_edges = dir_bins.tolist()\n",
    "    dir_edges.pop(-1)\n",
    "    dir_edges[0] = dir_edges.pop(-1)\n",
    "    dir_bins[0] = 0.\n",
    "\n",
    "    var_bins = bins.tolist()\n",
    "    var_bins.append(np.inf)\n",
    "\n",
    "    if blowto:\n",
    "        direction = direction + 180.\n",
    "        direction[direction >= 360.] = direction[direction >= 360.] - 360\n",
    "\n",
    "    table = np.histogram2d(x=var, y=direction, bins=[var_bins, dir_bins], normed=False)[0]\n",
    "    # add the last value to the first to have the table of North winds\n",
    "    table[:, 0] = table[:, 0] + table[:, -1]\n",
    "    # and remove the last col\n",
    "    table = table[:, :-1]\n",
    "    if normed:\n",
    "        table = table * 100 / table.sum()\n",
    " \n",
    "    return dir_edges, var_bins, table"
   ]
  },
  {
   "cell_type": "code",
   "execution_count": 4,
   "metadata": {
    "collapsed": true
   },
   "outputs": [],
   "source": [
    "def get_hist_table(ij):\n",
    "    \"\"\"\n",
    "    Function for multiprocessing.\n",
    "    Create historgram table for each grid\n",
    "    \"\"\"\n",
    "    i, j = ij\n",
    "    sector_edges, bins, table = histogram(WDIR[:, i, j], WSPD[:, i, j], speed_bins, num_dir_sectors)\n",
    "    return table"
   ]
  },
  {
   "cell_type": "code",
   "execution_count": 5,
   "metadata": {
    "collapsed": true
   },
   "outputs": [],
   "source": [
    "# =============================================================================\n",
    "# Input arguments (dates should represents the valid time)\n",
    "month = 9\n",
    "day = 15\n",
    "hour = 0\n",
    "fxx = 0\n",
    "\n",
    "# Archvie Date Range\n",
    "sDATE = datetime(2015, 4, 18, hour)\n",
    "eDATE = datetime(2017, 8, 1, hour)\n",
    "# ============================================================================="
   ]
  },
  {
   "cell_type": "code",
   "execution_count": 6,
   "metadata": {
    "collapsed": false
   },
   "outputs": [
    {
     "name": "stdout",
     "output_type": "stream",
     "text": [
      "2015-09-15 00:00:00     fxx: 0\n",
      "2016-09-15 00:00:00     fxx: 0\n",
      "2017-09-15 00:00:00     fxx: 0\n"
     ]
    }
   ],
   "source": [
    "# Range of dates for the desired Month, Hour, and Day \n",
    "# (e.g. all 0100 UTC for 15 days before and after the 6th day of the month of January)\n",
    "# requestDATES is the file we want from the Pando archive, and we will account\n",
    "# for the offset with the fxx argument.\n",
    "years = range(sDATE.year, eDATE.year+1)\n",
    "validDATES = []\n",
    "for y in years:\n",
    "    try:\n",
    "        centerDATE = datetime(y, month, day, hour)\n",
    "        print datetime(y, month, day, hour), '    fxx:', fxx\n",
    "    except:\n",
    "        print 'Not a valid date: datetime(%s, %s, %s, %s)' % (y, month, day, hour)\n",
    "        continue\n",
    "    begin = centerDATE-timedelta(days=15)\n",
    "    end = centerDATE+timedelta(days=15)\n",
    "    chunk = [begin+timedelta(days=x) for x in range(0,(end-begin).days) if begin+timedelta(days=x) > sDATE]\n",
    "    validDATES += chunk\n",
    "\n",
    "requestDATES = np.array([d-timedelta(hours=fxx) for d in validDATES])"
   ]
  },
  {
   "cell_type": "code",
   "execution_count": 7,
   "metadata": {
    "collapsed": false
   },
   "outputs": [
    {
     "name": "stdout",
     "output_type": "stream",
     "text": [
      "getting U grids... done.\n",
      "getting V grids... done.\n",
      "./temp_2015083100_f00_UGR.grib2\n",
      "Oh, good, you requested a date that should be on Pando.\n",
      "matched a variable 52:36726332:d=2015083100:UGRD:10 m above ground:anl\n",
      "\n",
      "range: 36726332 37889002\n"
     ]
    }
   ],
   "source": [
    "# Multiprocessing :) Get field of each item in list requestDATES\n",
    "cpu_count = multiprocessing.cpu_count()\n",
    "    \n",
    "variable = 'UGRD:10 m'\n",
    "print \"getting U grids...\",\n",
    "p = multiprocessing.Pool(cpu_count)\n",
    "U = p.map(get_HRRR_value, requestDATES)\n",
    "U = np.array([x for x in U if x is not None])\n",
    "p.close()\n",
    "print 'done.'\n",
    "\n",
    "variable = 'VGRD:10 m'\n",
    "print \"getting V grids...\",\n",
    "p = multiprocessing.Pool(cpu_count)\n",
    "V = p.map(get_HRRR_value, requestDATES)\n",
    "V = np.array([x for x in V if x is not None])\n",
    "p.close()\n",
    "print \"done.\"\n",
    "\n",
    "# Convert U and V to Speed and Direction\n",
    "WSPD = wind_uv_to_spd(U, V)\n",
    "WDIR = wind_uv_to_dir(U, V)\n",
    "\n",
    "# We need the HRRR lat/lon arrays, so get a single H dictionary\n",
    "H = get_hrrr_variable(requestDATES[0], 'UGRD:10 m')"
   ]
  },
  {
   "cell_type": "code",
   "execution_count": 8,
   "metadata": {
    "collapsed": false
   },
   "outputs": [
    {
     "name": "stdout",
     "output_type": "stream",
     "text": [
      "making histogram tables... done!\n"
     ]
    },
    {
     "ename": "NameError",
     "evalue": "name 'timer1' is not defined",
     "output_type": "error",
     "traceback": [
      "\u001b[0;31m---------------------------------------------------------------------------\u001b[0m",
      "\u001b[0;31mNameError\u001b[0m                                 Traceback (most recent call last)",
      "\u001b[0;32m<ipython-input-8-b07d86ce084a>\u001b[0m in \u001b[0;36m<module>\u001b[0;34m()\u001b[0m\n\u001b[1;32m     22\u001b[0m \u001b[0msector_edges\u001b[0m\u001b[0;34m,\u001b[0m \u001b[0mbins\u001b[0m\u001b[0;34m,\u001b[0m \u001b[0mtable\u001b[0m \u001b[0;34m=\u001b[0m \u001b[0mhistogram\u001b[0m\u001b[0;34m(\u001b[0m\u001b[0mWDIR\u001b[0m\u001b[0;34m[\u001b[0m\u001b[0;34m:\u001b[0m\u001b[0;34m,\u001b[0m \u001b[0;36m0\u001b[0m\u001b[0;34m,\u001b[0m \u001b[0;36m0\u001b[0m\u001b[0;34m]\u001b[0m\u001b[0;34m,\u001b[0m \u001b[0mWSPD\u001b[0m\u001b[0;34m[\u001b[0m\u001b[0;34m:\u001b[0m\u001b[0;34m,\u001b[0m \u001b[0;36m0\u001b[0m\u001b[0;34m,\u001b[0m \u001b[0;36m0\u001b[0m\u001b[0;34m]\u001b[0m\u001b[0;34m,\u001b[0m \u001b[0mspeed_bins\u001b[0m\u001b[0;34m,\u001b[0m \u001b[0mnum_dir_sectors\u001b[0m\u001b[0;34m)\u001b[0m\u001b[0;34m\u001b[0m\u001b[0m\n\u001b[1;32m     23\u001b[0m \u001b[0;34m\u001b[0m\u001b[0m\n\u001b[0;32m---> 24\u001b[0;31m \u001b[0mtimer\u001b[0m \u001b[0;34m=\u001b[0m \u001b[0mdatetime\u001b[0m\u001b[0;34m.\u001b[0m\u001b[0mnow\u001b[0m\u001b[0;34m(\u001b[0m\u001b[0;34m)\u001b[0m \u001b[0;34m-\u001b[0m \u001b[0mtimer1\u001b[0m\u001b[0;34m\u001b[0m\u001b[0m\n\u001b[0m\u001b[1;32m     25\u001b[0m \u001b[0;34m\u001b[0m\u001b[0m\n\u001b[1;32m     26\u001b[0m \u001b[0;31m# Write the HDF5 file of the data\u001b[0m\u001b[0;34m\u001b[0m\u001b[0;34m\u001b[0m\u001b[0m\n",
      "\u001b[0;31mNameError\u001b[0m: name 'timer1' is not defined"
     ]
    }
   ],
   "source": [
    "# Histogram bins\n",
    "num_dir_sectors = 8               # Number of directional sectors (sectors calculated in histogram function)\n",
    "speed_bins = np.arange(0, 10, 2)  # Speed bins\n",
    "num_spd_bins = len(speed_bins)    # Number of speed bins\n",
    "\n",
    "rose_dim = num_spd_bins * num_dir_sectors\n",
    "x_dim, y_dim = H['value'].shape\n",
    "\n",
    "\n",
    "# make rose table for each point in HRRR\n",
    "indexes = [[i, j] for i in range(x_dim) for j in range(y_dim)]\n",
    "\n",
    "print \"making histogram tables...\",\n",
    "p = multiprocessing.Pool(cpu_count)\n",
    "result = np.array(p.map(get_hist_table, indexes))\n",
    "p.close()\n",
    "print \"done!\"\n",
    "\n",
    "rose_storage = result.reshape(x_dim, y_dim, num_spd_bins, num_dir_sectors)\n",
    "\n",
    "# Get the hisotgram bins to return\n",
    "sector_edges, bins, table = histogram(WDIR[:, 0, 0], WSPD[:, 0, 0], speed_bins, num_dir_sectors)\n",
    "\n",
    "timer = datetime.now() - timer1\n",
    "\n",
    "# Write the HDF5 file of the data\n",
    "var_name = 'ROSE_10m'\n",
    "f = h5py.File('OSG_HRRR_%s_m%02d_d%02d_h%02d_f%02d.h5' % (var_name, month, day, hour, fxx), 'w')\n",
    "h5_per = f.create_dataset('rose tables', data=rose_storage.astype(int), compression=\"gzip\", compression_opts=9)\n",
    "h5_count = f.create_dataset('wind speed bins', data=bins)\n",
    "h5_count = f.create_dataset('wind direction edges', data=sector_edges)\n",
    "h5_cores = f.create_dataset('cores', data=cpu_count)\n",
    "h5_timer = f.create_dataset('timer', data=str(timer))\n",
    "h5_begD = f.create_dataset('Beginning Date', data=validDATES[0].strftime('%Y-%m-%d-%H:00'))\n",
    "h5_endD = f.create_dataset('Ending Date', data=validDATES[-1].strftime('%Y-%m-%d-%H:00'))\n",
    "f.close()\n",
    "\n",
    "# Could add percentiles for the wind speed\n",
    "# Store counts as integers, not floats, to save memory (difference between 23 MB/file to 22 MB/file)"
   ]
  }
 ],
 "metadata": {
  "kernelspec": {
   "display_name": "Python 2",
   "language": "python",
   "name": "python2"
  },
  "language_info": {
   "codemirror_mode": {
    "name": "ipython",
    "version": 2
   },
   "file_extension": ".py",
   "mimetype": "text/x-python",
   "name": "python",
   "nbconvert_exporter": "python",
   "pygments_lexer": "ipython2",
   "version": "2.7.11"
  }
 },
 "nbformat": 4,
 "nbformat_minor": 0
}
