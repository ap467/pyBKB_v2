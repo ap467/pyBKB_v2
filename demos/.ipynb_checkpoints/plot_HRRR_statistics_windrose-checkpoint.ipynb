{
 "cells": [
  {
   "cell_type": "markdown",
   "metadata": {},
   "source": [
    "# HRRR Wind Roses from OSG\n",
    "Brian Blaylock  \n",
    "October 6, 2017\n",
    "\n",
    "Histogram bins for series of HRRR wind speed and direction\n",
    "Shows how to plot data from wind roses binned by the Open Science Grid."
   ]
  },
  {
   "cell_type": "code",
   "execution_count": 5,
   "metadata": {
    "collapsed": true
   },
   "outputs": [],
   "source": [
    "%matplotlib inline\n",
    "import numpy as np\n",
    "from datetime import datetime, timedelta\n",
    "from netCDF4 import Dataset\n",
    "import multiprocessing # :)\n",
    "import matplotlib.pyplot as plt\n",
    "import h5py\n",
    "\n",
    "import sys\n",
    "sys.path.append('/uufs/chpc.utah.edu/common/home/u0553130/pyBKB_v2/')\n",
    "from BB_downloads.HRRR_S3 import get_hrrr_variable\n",
    "from BB_wx_calcs.wind import wind_uv_to_spd, wind_uv_to_dir"
   ]
  },
  {
   "cell_type": "code",
   "execution_count": 6,
   "metadata": {
    "collapsed": false
   },
   "outputs": [],
   "source": [
    "# =============================================================================\n",
    "# Input arguments (dates should represents the valid time)\n",
    "month = 9\n",
    "day = 15\n",
    "hour = 0\n",
    "fxx = 0\n",
    "\n",
    "# Archvie Date Range\n",
    "sDATE = datetime(2015, 4, 18, hour)\n",
    "eDATE = datetime(2017, 8, 1, hour)\n",
    "\n",
    "# Variable\n",
    "var_name = 'ROSE_10m'\n",
    "# ============================================================================="
   ]
  },
  {
   "cell_type": "code",
   "execution_count": null,
   "metadata": {
    "collapsed": true
   },
   "outputs": [],
   "source": [
    "import os\n",
    "os.listdir('./"
   ]
  },
  {
   "cell_type": "code",
   "execution_count": 7,
   "metadata": {
    "collapsed": false
   },
   "outputs": [
    {
     "ename": "IOError",
     "evalue": "Unable to open file (Unable to open file: name = 'osg_hrrr_rose_10m_m09_d15_h00_f00.h5', errno = 2, error message = 'no such file or directory', flags = 0, o_flags = 0)",
     "output_type": "error",
     "traceback": [
      "\u001b[0;31m---------------------------------------------------------------------------\u001b[0m",
      "\u001b[0;31mIOError\u001b[0m                                   Traceback (most recent call last)",
      "\u001b[0;32m<ipython-input-7-3a976bd47adb>\u001b[0m in \u001b[0;36m<module>\u001b[0;34m()\u001b[0m\n\u001b[1;32m      1\u001b[0m \u001b[0;31m# Open a wind rose file\u001b[0m\u001b[0;34m\u001b[0m\u001b[0;34m\u001b[0m\u001b[0m\n\u001b[1;32m      2\u001b[0m \u001b[0;34m\u001b[0m\u001b[0m\n\u001b[0;32m----> 3\u001b[0;31m \u001b[0mh5\u001b[0m \u001b[0;34m=\u001b[0m \u001b[0mh5py\u001b[0m\u001b[0;34m.\u001b[0m\u001b[0mFile\u001b[0m\u001b[0;34m(\u001b[0m\u001b[0;34m'OSG_HRRR_%s_m%02d_d%02d_h%02d_f%02d.h5'\u001b[0m \u001b[0;34m%\u001b[0m \u001b[0;34m(\u001b[0m\u001b[0mvar_name\u001b[0m\u001b[0;34m,\u001b[0m \u001b[0mmonth\u001b[0m\u001b[0;34m,\u001b[0m \u001b[0mday\u001b[0m\u001b[0;34m,\u001b[0m \u001b[0mhour\u001b[0m\u001b[0;34m,\u001b[0m \u001b[0mfxx\u001b[0m\u001b[0;34m)\u001b[0m\u001b[0;34m,\u001b[0m \u001b[0;34m'r'\u001b[0m\u001b[0;34m)\u001b[0m\u001b[0;34m\u001b[0m\u001b[0m\n\u001b[0m\u001b[1;32m      4\u001b[0m \u001b[0;34m\u001b[0m\u001b[0m\n\u001b[1;32m      5\u001b[0m \u001b[0mrose\u001b[0m \u001b[0;34m=\u001b[0m \u001b[0mh5\u001b[0m\u001b[0;34m[\u001b[0m\u001b[0;34m'rose tables'\u001b[0m\u001b[0;34m]\u001b[0m\u001b[0;34m\u001b[0m\u001b[0m\n",
      "\u001b[0;32m/uufs/chpc.utah.edu/sys/installdir/python/2.7.11-c7/lib/python2.7/site-packages/h5py-2.7.0rc2-py2.7-linux-x86_64.egg/h5py/_hl/files.pyc\u001b[0m in \u001b[0;36m__init__\u001b[0;34m(self, name, mode, driver, libver, userblock_size, swmr, **kwds)\u001b[0m\n\u001b[1;32m    269\u001b[0m \u001b[0;34m\u001b[0m\u001b[0m\n\u001b[1;32m    270\u001b[0m                 \u001b[0mfapl\u001b[0m \u001b[0;34m=\u001b[0m \u001b[0mmake_fapl\u001b[0m\u001b[0;34m(\u001b[0m\u001b[0mdriver\u001b[0m\u001b[0;34m,\u001b[0m \u001b[0mlibver\u001b[0m\u001b[0;34m,\u001b[0m \u001b[0;34m**\u001b[0m\u001b[0mkwds\u001b[0m\u001b[0;34m)\u001b[0m\u001b[0;34m\u001b[0m\u001b[0m\n\u001b[0;32m--> 271\u001b[0;31m                 \u001b[0mfid\u001b[0m \u001b[0;34m=\u001b[0m \u001b[0mmake_fid\u001b[0m\u001b[0;34m(\u001b[0m\u001b[0mname\u001b[0m\u001b[0;34m,\u001b[0m \u001b[0mmode\u001b[0m\u001b[0;34m,\u001b[0m \u001b[0muserblock_size\u001b[0m\u001b[0;34m,\u001b[0m \u001b[0mfapl\u001b[0m\u001b[0;34m,\u001b[0m \u001b[0mswmr\u001b[0m\u001b[0;34m=\u001b[0m\u001b[0mswmr\u001b[0m\u001b[0;34m)\u001b[0m\u001b[0;34m\u001b[0m\u001b[0m\n\u001b[0m\u001b[1;32m    272\u001b[0m \u001b[0;34m\u001b[0m\u001b[0m\n\u001b[1;32m    273\u001b[0m                 \u001b[0;32mif\u001b[0m \u001b[0mswmr_support\u001b[0m\u001b[0;34m:\u001b[0m\u001b[0;34m\u001b[0m\u001b[0m\n",
      "\u001b[0;32m/uufs/chpc.utah.edu/sys/installdir/python/2.7.11-c7/lib/python2.7/site-packages/h5py-2.7.0rc2-py2.7-linux-x86_64.egg/h5py/_hl/files.pyc\u001b[0m in \u001b[0;36mmake_fid\u001b[0;34m(name, mode, userblock_size, fapl, fcpl, swmr)\u001b[0m\n\u001b[1;32m     99\u001b[0m         \u001b[0;32mif\u001b[0m \u001b[0mswmr\u001b[0m \u001b[0;32mand\u001b[0m \u001b[0mswmr_support\u001b[0m\u001b[0;34m:\u001b[0m\u001b[0;34m\u001b[0m\u001b[0m\n\u001b[1;32m    100\u001b[0m             \u001b[0mflags\u001b[0m \u001b[0;34m|=\u001b[0m \u001b[0mh5f\u001b[0m\u001b[0;34m.\u001b[0m\u001b[0mACC_SWMR_READ\u001b[0m\u001b[0;34m\u001b[0m\u001b[0m\n\u001b[0;32m--> 101\u001b[0;31m         \u001b[0mfid\u001b[0m \u001b[0;34m=\u001b[0m \u001b[0mh5f\u001b[0m\u001b[0;34m.\u001b[0m\u001b[0mopen\u001b[0m\u001b[0;34m(\u001b[0m\u001b[0mname\u001b[0m\u001b[0;34m,\u001b[0m \u001b[0mflags\u001b[0m\u001b[0;34m,\u001b[0m \u001b[0mfapl\u001b[0m\u001b[0;34m=\u001b[0m\u001b[0mfapl\u001b[0m\u001b[0;34m)\u001b[0m\u001b[0;34m\u001b[0m\u001b[0m\n\u001b[0m\u001b[1;32m    102\u001b[0m     \u001b[0;32melif\u001b[0m \u001b[0mmode\u001b[0m \u001b[0;34m==\u001b[0m \u001b[0;34m'r+'\u001b[0m\u001b[0;34m:\u001b[0m\u001b[0;34m\u001b[0m\u001b[0m\n\u001b[1;32m    103\u001b[0m         \u001b[0mfid\u001b[0m \u001b[0;34m=\u001b[0m \u001b[0mh5f\u001b[0m\u001b[0;34m.\u001b[0m\u001b[0mopen\u001b[0m\u001b[0;34m(\u001b[0m\u001b[0mname\u001b[0m\u001b[0;34m,\u001b[0m \u001b[0mh5f\u001b[0m\u001b[0;34m.\u001b[0m\u001b[0mACC_RDWR\u001b[0m\u001b[0;34m,\u001b[0m \u001b[0mfapl\u001b[0m\u001b[0;34m=\u001b[0m\u001b[0mfapl\u001b[0m\u001b[0;34m)\u001b[0m\u001b[0;34m\u001b[0m\u001b[0m\n",
      "\u001b[0;32mh5py/_objects.pyx\u001b[0m in \u001b[0;36mh5py._objects.with_phil.wrapper (/uufs/chpc.utah.edu/sys/srcdir/pylib/2.7.11-c7/h5py/h5py-2.7.0rc2/h5py/_objects.c:2807)\u001b[0;34m()\u001b[0m\n",
      "\u001b[0;32mh5py/_objects.pyx\u001b[0m in \u001b[0;36mh5py._objects.with_phil.wrapper (/uufs/chpc.utah.edu/sys/srcdir/pylib/2.7.11-c7/h5py/h5py-2.7.0rc2/h5py/_objects.c:2765)\u001b[0;34m()\u001b[0m\n",
      "\u001b[0;32mh5py/h5f.pyx\u001b[0m in \u001b[0;36mh5py.h5f.open (/uufs/chpc.utah.edu/sys/srcdir/pylib/2.7.11-c7/h5py/h5py-2.7.0rc2/h5py/h5f.c:2079)\u001b[0;34m()\u001b[0m\n",
      "\u001b[0;31mIOError\u001b[0m: Unable to open file (Unable to open file: name = 'osg_hrrr_rose_10m_m09_d15_h00_f00.h5', errno = 2, error message = 'no such file or directory', flags = 0, o_flags = 0)"
     ]
    }
   ],
   "source": [
    "# Open a wind rose file\n",
    "FILE = 'OSG_HRRR_%s_m%02d_d%02d_h%02d_f%02d.h5' % (var_name, month, day, hour, fxx)\n",
    "h5 = h5py.File(FILE, 'r')\n",
    "\n",
    "rose = h5['rose tables']"
   ]
  },
  {
   "cell_type": "code",
   "execution_count": null,
   "metadata": {
    "collapsed": true
   },
   "outputs": [],
   "source": [
    "#==============================================================================\n",
    "# total samples in each point\n",
    "samples = np.sum(rose[0,0]) # same as np.sum(rose[0, 0, :, :])\n",
    "\n",
    "# total samples between last speed bin and infinity (top left corner)\n",
    "count_highest_spd_bin = np.sum(rose[0,0][-1,:])\n",
    "\n",
    "# total samples of north wind at a point (top left corner)\n",
    "count_highest_spd_bin = np.sum(rose[0,0][:,0])\n",
    "\n",
    "#==============================================================================\n",
    "# Plot CONUS with count of highest wind bin (in this case, winds greater than 8) in all directions\n",
    "CONUS_highest_bin_count = np.sum(rose[:,:,-1,:], axis=2)\n",
    "\n",
    "plt.figure(1)\n",
    "plt.pcolormesh(CONUS_highest_bin_count)\n",
    "plt.colorbar()\n",
    "plt.title('Count Wind Speed Greater than %s ms-1\\nMonth:%02d, Day:%02d, Hour:%02d\\nFirst: %s\\n Last: %s' % (h5['wind speed bins'][-2], month, day, hour, validDATES[0], validDATES[-1]))\n",
    "\n",
    "plt.figure(2)\n",
    "plt.pcolormesh(CONUS_highest_bin_count/float(samples))\n",
    "plt.colorbar()\n",
    "plt.title('Occurance Wind Speed Greater than %s ms-1\\nMonth:%02d, Day:%02d, Hour:%02d\\nFirst: %s\\n Last: %s' % (h5['wind speed bins'][-2], month, day, hour, validDATES[0], validDATES[-1]))\n",
    "plt.show()\n",
    "\n",
    "# Plot CONUS with north wind at all wind speeds\n",
    "CONUS_north_wind_count = np.sum(rose[:,:,:,0], axis=2)\n",
    "\n",
    "plt.figure(1)\n",
    "plt.pcolormesh(CONUS_north_wind_count)\n",
    "plt.colorbar()\n",
    "plt.title('Count North Wind\\nMonth:%02d, Day:%02d, Hour:%02d\\nFirst: %s\\n Last: %s' % (month, day, hour, validDATES[0], validDATES[-1]))\n",
    "\n",
    "plt.figure(2)\n",
    "plt.pcolormesh(CONUS_north_wind_count/float(samples))\n",
    "plt.colorbar()\n",
    "plt.title('Occurance North Wind\\nMonth:%02d, Day:%02d, Hour:%02d\\nFirst: %s\\n Last: %s' % (month, day, hour, validDATES[0], validDATES[-1]))\n",
    "plt.show()\n",
    "\n",
    "# Plot CONUS with south wind at all wind speeds\n",
    "CONUS_south_wind_count = np.sum(rose[:,:,:,4], axis=2)\n",
    "\n",
    "plt.figure(1)\n",
    "plt.pcolormesh(CONUS_south_wind_count)\n",
    "plt.colorbar()\n",
    "plt.title('Count South Wind\\nMonth:%02d, Day:%02d, Hour:%02d\\nFirst: %s\\n Last: %s' % (month, day, hour, validDATES[0], validDATES[-1]))\n",
    "\n",
    "plt.figure(2)\n",
    "plt.pcolormesh(CONUS_south_wind_count/float(samples))\n",
    "plt.colorbar()\n",
    "plt.title('Occurance South Wind\\nMonth:%02d, Day:%02d, Hour:%02d\\nFirst: %s\\n Last: %s' % (month, day, hour, validDATES[0], validDATES[-1]))\n",
    "plt.show()\n",
    "\n",
    "\n",
    "\n",
    "## ============================================================================\n",
    "# Pluck a point from HRRR grid\n",
    "latlon = h5py.File('/uufs/chpc.utah.edu/common/home/horel-group2/blaylock/HRRR_OSG/daily30_20150418-20170801/OSG_HRRR_latlon.h5', 'r')\n",
    "lat = latlon['latitude'].value\n",
    "lon = latlon['longitude'].value\n",
    "\n",
    "wbb_lat = 40.76623\n",
    "wbb_lon = -111.84755\n",
    "\n",
    "from BB_data.grid_manager import pluck_point_new\n",
    "from pylab import poly_between\n",
    "from BB_rose.windrose import WindroseAxes\n",
    "\n",
    "I, J = pluck_point_new(wbb_lat, wbb_lon, lat, lon)\n",
    "i = I[0]\n",
    "j = J[0]\n",
    "\n",
    "wbb_rose_table = rose[i, j]\n",
    "\n",
    "## ============================================================================\n",
    "# Plot a rose for the point\n",
    "new_bins = bins[0:-1]\n",
    "new_nbins = num_spd_bins\n",
    "new_nsector = num_dir_sectors\n",
    "new_cmap = mpl.cm.jet\n",
    "new_colors = [new_cmap(i) for i in np.linspace(0.0, 1.0, new_nbins)]\n",
    "new_angles = np.arange(0, -2*np.pi, -2*np.pi/new_nsector) + np.pi/2\n",
    "\n",
    "plot_angles = np.hstack((new_angles, new_angles[-1]-2*np.pi/new_nsector))\n",
    "plot_vals = np.hstack((wbb_rose_table,\n",
    "                       np.reshape(wbb_rose_table[:,0],\n",
    "                                 (wbb_rose_table.shape[0], 1))))\n",
    "\n",
    "fig = plt.figure(figsize=(8, 8), dpi=80, facecolor='w', edgecolor='w')\n",
    "rect = [0.1, 0.1, 0.8, 0.8]\n",
    "ax = WindroseAxes(fig, rect, axisbg='w')\n",
    "fig.add_axes(ax)\n",
    "\n",
    "opening = 0.8\n",
    "dtheta = 2*np.pi/new_nsector\n",
    "opening = dtheta*opening\n",
    "\n",
    "wbb_rose_percent = wbb_rose_table/float(samples)\n",
    "\n",
    "for j in range(new_nsector):\n",
    "    offset = 0\n",
    "    for i in range(new_nbins):\n",
    "        if i > 0:\n",
    "            offset += wbb_rose_percent[i-1, j]\n",
    "        val = wbb_rose_percent[i, j]\n",
    "        zorder = ZBASE + new_nbins - i\n",
    "        patch = mpl.patches.Rectangle((plot_angles[j]-opening/2, offset), opening, val,\n",
    "                                      facecolor=new_colors[i], edgecolor=None, zorder=zorder)\n",
    "        ax.add_patch(patch)\n",
    "        if j == 0:\n",
    "            ax.patches_list.append(patch)\n",
    "\n",
    "\n",
    "handles = list()\n",
    "for p in ax.patches_list:\n",
    "    if isinstance(p, mpl.patches.Polygon) or \\\n",
    "    isinstance(p, mpl.patches.Rectangle):\n",
    "        color = p.get_facecolor()\n",
    "    elif isinstance(p, mpl.lines.Line2D):\n",
    "        color = p.get_color()\n",
    "    else:\n",
    "        raise AttributeError(\"Can't handle patches\")\n",
    "    handles.append(mpl.patches.Rectangle((0, 0), 0.2, 0.2,\n",
    "        facecolor=color, edgecolor='black'))\n",
    "\n",
    "\n",
    "labels = np.copy(bins)\n",
    "labels = [\"[%.1f : %0.1f] m s-1\" %(labels[i], labels[i+1]) \\\n",
    "            for i in range(len(labels)-1)]\n",
    "ax.legend_ = mpl.legend.Legend(ax, handles, labels, loc='lower left')"
   ]
  }
 ],
 "metadata": {
  "kernelspec": {
   "display_name": "Python 2",
   "language": "python",
   "name": "python2"
  },
  "language_info": {
   "codemirror_mode": {
    "name": "ipython",
    "version": 2
   },
   "file_extension": ".py",
   "mimetype": "text/x-python",
   "name": "python",
   "nbconvert_exporter": "python",
   "pygments_lexer": "ipython2",
   "version": "2.7.11"
  }
 },
 "nbformat": 4,
 "nbformat_minor": 0
}
